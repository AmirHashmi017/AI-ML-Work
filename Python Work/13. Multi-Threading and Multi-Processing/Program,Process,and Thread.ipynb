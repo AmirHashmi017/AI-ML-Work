{
 "cells": [
  {
   "cell_type": "markdown",
   "id": "0278b2d1",
   "metadata": {},
   "source": [
    "# What is Program, Process and Thread"
   ]
  },
  {
   "cell_type": "markdown",
   "id": "3a3b2a33",
   "metadata": {},
   "source": [
    "## Program\n",
    "### A program is a sequence of instructions in any programmming language like Python, C++, C# to perform some tasks\n",
    "1. Example: Goggle Chrome,Excel"
   ]
  },
  {
   "cell_type": "markdown",
   "id": "420229b0",
   "metadata": {},
   "source": [
    "## Process\n",
    "### A Process is an instance of program that is being executed.\n",
    "Important Points about a Process:\n",
    "1. Each process has its own separate memory, preventing interference or corruption between processes.\n",
    "\n",
    "\n",
    "2. Processes utilize I/O resources, and multiprocessing depends on the number of CPU cores.\n",
    "\n",
    "\n",
    "3. Switching between processes takes more execution time compared to threads.\n",
    "\n",
    "\n",
    "4. Every process has its own:\n",
    "\n",
    "    4.1. CS (Code Segment): For program code\n",
    "\n",
    "    4.2. DS (Data Segment): For global/static variables\n",
    "\n",
    "    4.3. Heap: For dynamic memory allocation\n",
    "\n",
    "    4.4. Stack: For local variables and function calls\n",
    "\n",
    "    4.5. Registers: For temporary data during execution\n",
    "\n",
    "\n",
    "5. Example: Multiple instances of Google Chrome running simultaneously."
   ]
  },
  {
   "cell_type": "markdown",
   "id": "5c2d59fd",
   "metadata": {},
   "source": [
    "## Thread\n",
    "### A thread is a smallest unit of execution within a process.\n",
    "Types of threads:\n",
    "1. Single-Threaded Process:\n",
    "\n",
    "    1.1. Contains only one thread.\n",
    "\n",
    "    1.2. The thread has its own stack and registers, but shares the code segment (CS), data segment (DS), and heap with the process.\n",
    "\n",
    "2. Multi-Threaded Process:\n",
    "\n",
    "    2.1. Contains multiple threads.\n",
    "\n",
    "    2.2. Threads share the process's memory segments but operate independently.\n",
    "\n",
    "Example:\n",
    "In MS Paint, drawing a circle and drawing a rectangle can be handled by two different threads within the same process."
   ]
  },
  {
   "cell_type": "markdown",
   "id": "8065f811",
   "metadata": {},
   "source": []
  }
 ],
 "metadata": {
  "language_info": {
   "name": "python"
  }
 },
 "nbformat": 4,
 "nbformat_minor": 5
}
