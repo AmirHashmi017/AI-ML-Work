{
 "cells": [
  {
   "cell_type": "markdown",
   "metadata": {},
   "source": [
    "# Module: Pandas Assignments\n",
    "## Lesson: Pandas\n",
    "### Assignment 1: DataFrame Creation and Indexing\n",
    "\n",
    "1. Create a Pandas DataFrame with 4 columns and 6 rows filled with random integers. Set the index to be the first column."
   ]
  },
  {
   "cell_type": "code",
   "execution_count": 2,
   "metadata": {},
   "outputs": [
    {
     "name": "stdout",
     "output_type": "stream",
     "text": [
      "    A   B   C   D\n",
      "0   5  14  10  18\n",
      "1  12   2  16   4\n",
      "2  13  15  18  11\n",
      "3  12  14   4  10\n",
      "4  12   5  18  20\n",
      "5   7   5   8  14\n",
      "     B   C   D\n",
      "A             \n",
      "5   14  10  18\n",
      "12   2  16   4\n",
      "13  15  18  11\n",
      "12  14   4  10\n",
      "12   5  18  20\n",
      "7    5   8  14\n"
     ]
    }
   ],
   "source": [
    "import pandas as pd\n",
    "import numpy as np\n",
    "df=pd.DataFrame(np.random.randint(1,21,size=(6,4)),columns=['A','B','C','D'])\n",
    "print(df)\n",
    "df.set_index('A',inplace=True)\n",
    "print(df)"
   ]
  },
  {
   "cell_type": "markdown",
   "metadata": {},
   "source": [
    "2. Create a Pandas DataFrame with columns 'A', 'B', 'C' and index 'X', 'Y', 'Z'. Fill the DataFrame with random integers and access the element at row 'Y' and column 'B'."
   ]
  },
  {
   "cell_type": "code",
   "execution_count": 9,
   "metadata": {},
   "outputs": [
    {
     "name": "stdout",
     "output_type": "stream",
     "text": [
      "    A   B   C\n",
      "X   7  14  56\n",
      "Y  88   2  86\n",
      "Z  62   4  67\n",
      "2\n"
     ]
    }
   ],
   "source": [
    "df=pd.DataFrame(np.random.randint(1,100,size=(3,3)),columns=['A','B','C'],index=['X','Y','Z'])\n",
    "print(df)\n",
    "print(df.loc['Y','B'])"
   ]
  },
  {
   "cell_type": "markdown",
   "metadata": {},
   "source": [
    "### Assignment 2: DataFrame Operations\n",
    "\n",
    "1. Create a Pandas DataFrame with 3 columns and 5 rows filled with random integers. Add a new column that is the product of the first two columns."
   ]
  },
  {
   "cell_type": "code",
   "execution_count": null,
   "metadata": {},
   "outputs": [
    {
     "name": "stdout",
     "output_type": "stream",
     "text": [
      "    A   B   C\n",
      "0  26  42  40\n",
      "1  58  19  57\n",
      "2  87  12  62\n",
      "3   2  21  45\n",
      "4  74  85  53\n",
      "    A   B   C   A*B\n",
      "0  26  42  40  1092\n",
      "1  58  19  57  1102\n",
      "2  87  12  62  1044\n",
      "3   2  21  45    42\n",
      "4  74  85  53  6290\n"
     ]
    }
   ],
   "source": [
    "df=pd.DataFrame(np.random.randint(1,100,size=(5,3)),columns=['A','B','C'])\n",
    "print(df)\n",
    "df['A*B']=df['A']*df['B']\n",
    "print(df)"
   ]
  },
  {
   "cell_type": "markdown",
   "metadata": {},
   "source": [
    "2. Create a Pandas DataFrame with 3 columns and 4 rows filled with random integers. Compute the row-wise and column-wise sum."
   ]
  },
  {
   "cell_type": "code",
   "execution_count": 15,
   "metadata": {},
   "outputs": [
    {
     "name": "stdout",
     "output_type": "stream",
     "text": [
      "    A   B   C\n",
      "0  28  19  71\n",
      "1  17  63  73\n",
      "2  53   9  52\n",
      "3  52  86  93\n",
      "Row-Wise-Sum: 0    118\n",
      "1    153\n",
      "2    114\n",
      "3    231\n",
      "dtype: int64\n",
      "Column-Wise-Sum: A    150\n",
      "B    177\n",
      "C    289\n",
      "dtype: int64\n"
     ]
    }
   ],
   "source": [
    "df=pd.DataFrame(np.random.randint(1,100,size=(4,3)),columns=['A','B','C'])\n",
    "print(df)\n",
    "rowwise=df.sum(axis=1)\n",
    "columnwise=df.sum(axis=0)\n",
    "print(f\"Row-Wise-Sum: {rowwise}\")\n",
    "print(f\"Column-Wise-Sum: {columnwise}\")"
   ]
  },
  {
   "cell_type": "markdown",
   "metadata": {},
   "source": [
    "### Assignment 3: Data Cleaning\n",
    "\n",
    "1. Create a Pandas DataFrame with 3 columns and 5 rows filled with random integers. Introduce some NaN values. Fill the NaN values with the mean of the respective columns."
   ]
  },
  {
   "cell_type": "code",
   "execution_count": 17,
   "metadata": {},
   "outputs": [
    {
     "name": "stdout",
     "output_type": "stream",
     "text": [
      "      A     B     C\n",
      "0  56.0   NaN  36.0\n",
      "1  22.0  63.0  89.0\n",
      "2  18.0  80.0   NaN\n",
      "3   9.0   4.0  38.0\n",
      "4   NaN   3.0  45.0\n",
      "       A     B     C\n",
      "0  56.00  37.5  36.0\n",
      "1  22.00  63.0  89.0\n",
      "2  18.00  80.0  52.0\n",
      "3   9.00   4.0  38.0\n",
      "4  26.25   3.0  45.0\n"
     ]
    }
   ],
   "source": [
    "df=pd.DataFrame(np.random.randint(1,100,size=(5,3)),columns=['A','B','C'])\n",
    "df.iloc[0, 1] = np.nan\n",
    "df.iloc[2, 2] = np.nan\n",
    "df.iloc[4, 0] = np.nan\n",
    "print(df)\n",
    "\n",
    "df.fillna(df.mean(),inplace=True)\n",
    "print(df)"
   ]
  },
  {
   "cell_type": "markdown",
   "metadata": {},
   "source": [
    "2. Create a Pandas DataFrame with 4 columns and 6 rows filled with random integers. Introduce some NaN values. Drop the rows with any NaN values."
   ]
  },
  {
   "cell_type": "code",
   "execution_count": 21,
   "metadata": {},
   "outputs": [
    {
     "name": "stdout",
     "output_type": "stream",
     "text": [
      "      A     B     C     D\n",
      "0   5.0   NaN  72.0  78.0\n",
      "1   9.0  18.0   NaN  93.0\n",
      "2  81.0  73.0  71.0  28.0\n",
      "3  20.0  31.0  81.0   NaN\n",
      "4  60.0  53.0  59.0  42.0\n",
      "5   NaN  42.0  95.0  56.0\n",
      "      A     B     C     D\n",
      "2  81.0  73.0  71.0  28.0\n",
      "4  60.0  53.0  59.0  42.0\n"
     ]
    }
   ],
   "source": [
    "df=pd.DataFrame(np.random.randint(1,100,size=(6,4)),columns=['A','B','C','D'])\n",
    "df.iloc[0,1]=np.nan\n",
    "df.iloc[1,2]=np.nan\n",
    "df.iloc[3,3]=np.nan\n",
    "df.iloc[5,0]=np.nan\n",
    "print(df)\n",
    "df.dropna(axis=0,inplace=True)\n",
    "print(df)\n"
   ]
  },
  {
   "cell_type": "markdown",
   "metadata": {},
   "source": [
    "### Assignment 4: Data Aggregation\n",
    "\n",
    "1. Create a Pandas DataFrame with 2 columns: 'Category' and 'Value'. Fill the 'Category' column with random categories ('A', 'B', 'C') and the 'Value' column with random integers. Group the DataFrame by 'Category' and compute the sum and mean of 'Value' for each category."
   ]
  },
  {
   "cell_type": "code",
   "execution_count": 34,
   "metadata": {},
   "outputs": [
    {
     "name": "stdout",
     "output_type": "stream",
     "text": [
      "  Category  Value\n",
      "0        C     23\n",
      "1        C     74\n",
      "2        C     42\n",
      "3        B     18\n",
      "4        A     91\n",
      "5        C     18\n",
      "6        A     65\n",
      "7        A     29\n",
      "8        A     43\n",
      "9        B     79\n",
      "          sum   mean\n",
      "Category            \n",
      "A         228  57.00\n",
      "B          97  48.50\n",
      "C         157  39.25\n"
     ]
    }
   ],
   "source": [
    "df=pd.DataFrame({'Category':np.random.choice(['A','B','C'],size=10),'Value': np.random.randint(1,100,size=10)})\n",
    "print(df)\n",
    "aggregate_result=df.groupby('Category')['Value'].agg(['sum','mean'])\n",
    "print(aggregate_result)"
   ]
  },
  {
   "cell_type": "markdown",
   "metadata": {},
   "source": [
    "2. Create a Pandas DataFrame with 3 columns: 'Product', 'Category', and 'Sales'. Fill the DataFrame with random data. Group the DataFrame by 'Category' and compute the total sales for each category."
   ]
  },
  {
   "cell_type": "code",
   "execution_count": 37,
   "metadata": {},
   "outputs": [
    {
     "name": "stdout",
     "output_type": "stream",
     "text": [
      "      Product     Category  Sales\n",
      "0         A.C    Footwears  80536\n",
      "1  Cold Drink  Electronics  26203\n",
      "2         A.C    Footwears  77985\n",
      "3         A.C     Beverage  27582\n",
      "4         A.C    Footwears  49636\n",
      "5    Sneakers     Beverage  36388\n",
      "6    Sneakers     Beverage  36388\n",
      "7  Cold Drink     Beverage  23629\n",
      "8         A.C     Beverage  29155\n",
      "9    Sneakers  Electronics  44003\n",
      "Category\n",
      "Beverage       153142\n",
      "Electronics     70206\n",
      "Footwears      208157\n",
      "Name: Sales, dtype: int32\n"
     ]
    }
   ],
   "source": [
    "df=pd.DataFrame({'Product':np.random.choice(['Cold Drink','Sneakers','A.C'],size=10),\n",
    "                 'Category':np.random.choice(['Beverage','Footwears','Electronics'],size=10),\n",
    "                 'Sales':np.random.randint(1000,100000,size=10)})\n",
    "print(df)\n",
    "aggregate_result=df.groupby(\"Category\")['Sales'].sum()\n",
    "print(aggregate_result)"
   ]
  },
  {
   "cell_type": "markdown",
   "metadata": {},
   "source": [
    "### Assignment 5: Merging DataFrames\n",
    "\n",
    "1. Create two Pandas DataFrames with a common column. Merge the DataFrames using the common column."
   ]
  },
  {
   "cell_type": "code",
   "execution_count": 52,
   "metadata": {},
   "outputs": [
    {
     "name": "stdout",
     "output_type": "stream",
     "text": [
      "  Key  Value1\n",
      "0   A      32\n",
      "1   B      25\n",
      "2   C      64\n",
      "3   D      75\n",
      "  Key  Value2\n",
      "0   A      25\n",
      "1   B      84\n",
      "2   C      45\n",
      "3   E      69\n"
     ]
    },
    {
     "data": {
      "text/html": [
       "<div>\n",
       "<style scoped>\n",
       "    .dataframe tbody tr th:only-of-type {\n",
       "        vertical-align: middle;\n",
       "    }\n",
       "\n",
       "    .dataframe tbody tr th {\n",
       "        vertical-align: top;\n",
       "    }\n",
       "\n",
       "    .dataframe thead th {\n",
       "        text-align: right;\n",
       "    }\n",
       "</style>\n",
       "<table border=\"1\" class=\"dataframe\">\n",
       "  <thead>\n",
       "    <tr style=\"text-align: right;\">\n",
       "      <th></th>\n",
       "      <th>Key</th>\n",
       "      <th>Value1</th>\n",
       "      <th>Value2</th>\n",
       "    </tr>\n",
       "  </thead>\n",
       "  <tbody>\n",
       "    <tr>\n",
       "      <th>0</th>\n",
       "      <td>A</td>\n",
       "      <td>32</td>\n",
       "      <td>25</td>\n",
       "    </tr>\n",
       "    <tr>\n",
       "      <th>1</th>\n",
       "      <td>B</td>\n",
       "      <td>25</td>\n",
       "      <td>84</td>\n",
       "    </tr>\n",
       "    <tr>\n",
       "      <th>2</th>\n",
       "      <td>C</td>\n",
       "      <td>64</td>\n",
       "      <td>45</td>\n",
       "    </tr>\n",
       "  </tbody>\n",
       "</table>\n",
       "</div>"
      ],
      "text/plain": [
       "  Key  Value1  Value2\n",
       "0   A      32      25\n",
       "1   B      25      84\n",
       "2   C      64      45"
      ]
     },
     "execution_count": 52,
     "metadata": {},
     "output_type": "execute_result"
    }
   ],
   "source": [
    "df1 = pd.DataFrame({'Key': ['A', 'B', 'C', 'D'], 'Value1': np.random.randint(1, 100, size=4)})\n",
    "df2 = pd.DataFrame({'Key': ['A', 'B', 'C', 'E'], 'Value2': np.random.randint(1, 100, size=4)})\n",
    "print(df1)\n",
    "print(df2)\n",
    "merged_df=pd.merge(df1,df2,on=\"Key\")\n",
    "merged_df\n"
   ]
  },
  {
   "cell_type": "markdown",
   "metadata": {},
   "source": [
    "2. Create two Pandas DataFrames with different columns. Concatenate the DataFrames along the rows and along the columns."
   ]
  },
  {
   "cell_type": "code",
   "execution_count": 55,
   "metadata": {},
   "outputs": [
    {
     "name": "stdout",
     "output_type": "stream",
     "text": [
      "DataFrame 1:\n",
      "    A   B\n",
      "0  33  91\n",
      "1  76  40\n",
      "2  65  38\n",
      "DataFrame 2:\n",
      "    C   D\n",
      "0  20   2\n",
      "1  55  72\n",
      "2   8  87\n",
      "      A     B     C     D\n",
      "0  33.0  91.0   NaN   NaN\n",
      "1  76.0  40.0   NaN   NaN\n",
      "2  65.0  38.0   NaN   NaN\n",
      "0   NaN   NaN  20.0   2.0\n",
      "1   NaN   NaN  55.0  72.0\n",
      "2   NaN   NaN   8.0  87.0\n",
      "    A   B   C   D\n",
      "0  33  91  20   2\n",
      "1  76  40  55  72\n",
      "2  65  38   8  87\n"
     ]
    }
   ],
   "source": [
    "\n",
    "df1 = pd.DataFrame({'A': np.random.randint(1, 100, size=3), 'B': np.random.randint(1, 100, size=3)})\n",
    "df2 = pd.DataFrame({'C': np.random.randint(1, 100, size=3), 'D': np.random.randint(1, 100, size=3)})\n",
    "print(\"DataFrame 1:\")\n",
    "print(df1)\n",
    "print(\"DataFrame 2:\")\n",
    "print(df2)\n",
    "concat_rows=pd.concat([df1,df2],axis=0)\n",
    "print(concat_rows)\n",
    "concat_columns=pd.concat([df1,df2],axis=1)\n",
    "print(concat_columns)"
   ]
  },
  {
   "cell_type": "markdown",
   "metadata": {},
   "source": [
    "### Assignment 6: Time Series Analysis\n",
    "\n",
    "1. Create a Pandas DataFrame with a datetime index and one column filled with random integers. Resample the DataFrame to compute the monthly mean of the values."
   ]
  },
  {
   "cell_type": "code",
   "execution_count": 61,
   "metadata": {},
   "outputs": [
    {
     "name": "stdout",
     "output_type": "stream",
     "text": [
      "            Value\n",
      "Date             \n",
      "2025-03-01     79\n",
      "2025-03-02     82\n",
      "2025-03-03     64\n",
      "2025-03-04     35\n",
      "2025-03-05     97\n",
      "...           ...\n",
      "2025-05-11     95\n",
      "2025-05-12     59\n",
      "2025-05-13     96\n",
      "2025-05-14     64\n",
      "2025-05-15     50\n",
      "\n",
      "[76 rows x 1 columns]\n",
      "                Value\n",
      "Date                 \n",
      "2025-03-31  54.032258\n",
      "2025-04-30  41.633333\n",
      "2025-05-31  64.200000\n"
     ]
    },
    {
     "name": "stderr",
     "output_type": "stream",
     "text": [
      "C:\\Users\\DELL\\AppData\\Local\\Temp\\ipykernel_2416\\322664087.py:6: FutureWarning: 'M' is deprecated and will be removed in a future version, please use 'ME' instead.\n",
      "  mean_value=df.resample('M').mean()\n"
     ]
    }
   ],
   "source": [
    "date_rng=pd.date_range(start='2025-03-01',end='2025-05-15',freq=\"D\")\n",
    "df=pd.DataFrame(date_rng,columns=['Date'])\n",
    "df['Value']=np.random.randint(1,100,len(date_rng))\n",
    "df.set_index(\"Date\",inplace=True)\n",
    "print(df)\n",
    "mean_value=df.resample('M').mean()\n",
    "print(mean_value)"
   ]
  },
  {
   "cell_type": "markdown",
   "metadata": {},
   "source": [
    "2. Create a Pandas DataFrame with a datetime index ranging from '2021-01-01' to '2021-12-31' and one column filled with random integers. Compute the rolling mean with a window of 7 days."
   ]
  },
  {
   "cell_type": "code",
   "execution_count": 63,
   "metadata": {},
   "outputs": [
    {
     "name": "stdout",
     "output_type": "stream",
     "text": [
      "               Values\n",
      "Date                 \n",
      "2021-01-01        NaN\n",
      "2021-01-02        NaN\n",
      "2021-01-03        NaN\n",
      "2021-01-04        NaN\n",
      "2021-01-05        NaN\n",
      "...               ...\n",
      "2021-12-27  61.142857\n",
      "2021-12-28  71.571429\n",
      "2021-12-29  66.142857\n",
      "2021-12-30  59.714286\n",
      "2021-12-31  48.857143\n",
      "\n",
      "[365 rows x 1 columns]\n"
     ]
    }
   ],
   "source": [
    "date_rng=pd.date_range(start='2021-01-01',end='2021-12-31',freq='D')\n",
    "df=pd.DataFrame(date_rng,columns=['Date'])\n",
    "df['Values']=np.random.randint(0,100,len(date_rng))\n",
    "df.set_index('Date',inplace=True)\n",
    "rolling_mean=df.rolling(window=7).mean()\n",
    "print(rolling_mean)"
   ]
  },
  {
   "cell_type": "markdown",
   "metadata": {},
   "source": [
    "### Assignment 7: MultiIndex DataFrame\n",
    "\n",
    "1. Create a Pandas DataFrame with a MultiIndex (hierarchical index). Perform some basic indexing and slicing operations on the MultiIndex DataFrame."
   ]
  },
  {
   "cell_type": "code",
   "execution_count": 2,
   "metadata": {},
   "outputs": [
    {
     "name": "stdout",
     "output_type": "stream",
     "text": [
      "                       Value1  Value2  Value3\n",
      "Category Sub Category                        \n",
      "A        1                 86      82      95\n",
      "         2                 72       2      80\n",
      "B        1                  6      91      20\n",
      "         2                 79      35      22\n",
      "              Value1  Value2  Value3\n",
      "Sub Category                        \n",
      "1                 86      82      95\n",
      "2                 72       2      80\n",
      "Value1    72\n",
      "Value2     2\n",
      "Value3    80\n",
      "Name: (A, 2), dtype: int32\n",
      "Category  Sub Category\n",
      "A         2               72\n",
      "B         1                6\n",
      "          2               79\n",
      "Name: Value1, dtype: int32\n"
     ]
    }
   ],
   "source": [
    "import pandas as pd\n",
    "import numpy as np\n",
    "arrays=[['A','A','B','B'],[1,2,1,2]]\n",
    "index=pd.MultiIndex.from_arrays(arrays,names=(\"Category\",\"Sub Category\"))\n",
    "df=pd.DataFrame(np.random.randint(1,100,size=(4,3)),index=index,columns=['Value1','Value2','Value3'])\n",
    "print(df)\n",
    "print(df.loc['A'])\n",
    "print(df.loc[('A',2)])\n",
    "print(df.loc[('A',2):('B',2),('Value1')])\n"
   ]
  },
  {
   "cell_type": "markdown",
   "metadata": {},
   "source": [
    "2. Create a Pandas DataFrame with MultiIndex consisting of 'Category' and 'SubCategory'. Fill the DataFrame with random data and compute the sum of values for each 'Category' and 'SubCategory'."
   ]
  },
  {
   "cell_type": "code",
   "execution_count": 74,
   "metadata": {},
   "outputs": [
    {
     "name": "stdout",
     "output_type": "stream",
     "text": [
      "                      Value\n",
      "Category SubCategory       \n",
      "A        1               90\n",
      "         2               44\n",
      "B        1               21\n",
      "         2               94\n",
      "Category  SubCategory\n",
      "A         1              90\n",
      "          2              44\n",
      "B         1              21\n",
      "          2              94\n",
      "Name: Value, dtype: int32\n"
     ]
    }
   ],
   "source": [
    "array=[['A','A','B','B'],[1,2,1,2]]\n",
    "index=pd.MultiIndex.from_arrays(array,names=(\"Category\",'SubCategory'))\n",
    "df=pd.DataFrame(np.random.randint(1,100,size=(4,1)),index=index,columns=['Value'])\n",
    "print(df)\n",
    "sumvalue=df.groupby(['Category','SubCategory'])['Value'].sum()\n",
    "print(sumvalue)"
   ]
  },
  {
   "cell_type": "markdown",
   "metadata": {},
   "source": [
    "### Assignment 8: Pivot Tables\n",
    "\n",
    "1. Create a Pandas DataFrame with columns 'Date', 'Category', and 'Value'. Create a pivot table to compute the sum of 'Value' for each 'Category' by 'Date'."
   ]
  },
  {
   "cell_type": "code",
   "execution_count": 78,
   "metadata": {},
   "outputs": [
    {
     "data": {
      "text/html": [
       "<div>\n",
       "<style scoped>\n",
       "    .dataframe tbody tr th:only-of-type {\n",
       "        vertical-align: middle;\n",
       "    }\n",
       "\n",
       "    .dataframe tbody tr th {\n",
       "        vertical-align: top;\n",
       "    }\n",
       "\n",
       "    .dataframe thead th {\n",
       "        text-align: right;\n",
       "    }\n",
       "</style>\n",
       "<table border=\"1\" class=\"dataframe\">\n",
       "  <thead>\n",
       "    <tr style=\"text-align: right;\">\n",
       "      <th>Category</th>\n",
       "      <th>A</th>\n",
       "      <th>B</th>\n",
       "      <th>C</th>\n",
       "    </tr>\n",
       "    <tr>\n",
       "      <th>Date</th>\n",
       "      <th></th>\n",
       "      <th></th>\n",
       "      <th></th>\n",
       "    </tr>\n",
       "  </thead>\n",
       "  <tbody>\n",
       "    <tr>\n",
       "      <th>2022-01-02</th>\n",
       "      <td>NaN</td>\n",
       "      <td>98.0</td>\n",
       "      <td>54.0</td>\n",
       "    </tr>\n",
       "    <tr>\n",
       "      <th>2022-01-03</th>\n",
       "      <td>28.0</td>\n",
       "      <td>37.0</td>\n",
       "      <td>71.0</td>\n",
       "    </tr>\n",
       "    <tr>\n",
       "      <th>2022-01-04</th>\n",
       "      <td>NaN</td>\n",
       "      <td>NaN</td>\n",
       "      <td>105.0</td>\n",
       "    </tr>\n",
       "    <tr>\n",
       "      <th>2022-01-05</th>\n",
       "      <td>142.0</td>\n",
       "      <td>94.0</td>\n",
       "      <td>98.0</td>\n",
       "    </tr>\n",
       "    <tr>\n",
       "      <th>2022-01-06</th>\n",
       "      <td>83.0</td>\n",
       "      <td>33.0</td>\n",
       "      <td>NaN</td>\n",
       "    </tr>\n",
       "    <tr>\n",
       "      <th>2022-01-07</th>\n",
       "      <td>NaN</td>\n",
       "      <td>NaN</td>\n",
       "      <td>36.0</td>\n",
       "    </tr>\n",
       "    <tr>\n",
       "      <th>2022-01-08</th>\n",
       "      <td>82.0</td>\n",
       "      <td>25.0</td>\n",
       "      <td>59.0</td>\n",
       "    </tr>\n",
       "    <tr>\n",
       "      <th>2022-01-10</th>\n",
       "      <td>88.0</td>\n",
       "      <td>NaN</td>\n",
       "      <td>16.0</td>\n",
       "    </tr>\n",
       "  </tbody>\n",
       "</table>\n",
       "</div>"
      ],
      "text/plain": [
       "Category        A     B      C\n",
       "Date                          \n",
       "2022-01-02    NaN  98.0   54.0\n",
       "2022-01-03   28.0  37.0   71.0\n",
       "2022-01-04    NaN   NaN  105.0\n",
       "2022-01-05  142.0  94.0   98.0\n",
       "2022-01-06   83.0  33.0    NaN\n",
       "2022-01-07    NaN   NaN   36.0\n",
       "2022-01-08   82.0  25.0   59.0\n",
       "2022-01-10   88.0   NaN   16.0"
      ]
     },
     "execution_count": 78,
     "metadata": {},
     "output_type": "execute_result"
    }
   ],
   "source": [
    "date_rng = pd.date_range(start='2022-01-01', end='2022-01-10', freq='D')\n",
    "df=pd.DataFrame({'Date':np.random.choice(date_rng,size=20),'Category':np.random.choice(['A','B','C'],size=20),\n",
    "                 'Value':np.random.randint(1,100,size=20)})\n",
    "pivot_table=df.pivot_table(values='Value',index='Date',columns='Category',aggfunc=\"sum\")\n",
    "pivot_table\n"
   ]
  },
  {
   "cell_type": "markdown",
   "metadata": {},
   "source": [
    "2. Create a Pandas DataFrame with columns 'Year', 'Quarter', and 'Revenue'. Create a pivot table to compute the mean 'Revenue' for each 'Quarter' by 'Year'."
   ]
  },
  {
   "cell_type": "code",
   "execution_count": 82,
   "metadata": {},
   "outputs": [
    {
     "name": "stdout",
     "output_type": "stream",
     "text": [
      "Original DataFrame:\n",
      "    Year Quarter  Revenue\n",
      "0   2021      Q3      925\n",
      "1   2021      Q1      971\n",
      "2   2020      Q4      357\n",
      "3   2021      Q1      876\n",
      "4   2021      Q1      712\n",
      "5   2020      Q1      788\n",
      "6   2020      Q3       39\n",
      "7   2020      Q1      186\n",
      "8   2022      Q2      954\n",
      "9   2020      Q4      649\n",
      "10  2021      Q3      545\n",
      "11  2022      Q3      953\n"
     ]
    },
    {
     "data": {
      "text/html": [
       "<div>\n",
       "<style scoped>\n",
       "    .dataframe tbody tr th:only-of-type {\n",
       "        vertical-align: middle;\n",
       "    }\n",
       "\n",
       "    .dataframe tbody tr th {\n",
       "        vertical-align: top;\n",
       "    }\n",
       "\n",
       "    .dataframe thead th {\n",
       "        text-align: right;\n",
       "    }\n",
       "</style>\n",
       "<table border=\"1\" class=\"dataframe\">\n",
       "  <thead>\n",
       "    <tr style=\"text-align: right;\">\n",
       "      <th>Quarter</th>\n",
       "      <th>Q1</th>\n",
       "      <th>Q2</th>\n",
       "      <th>Q3</th>\n",
       "      <th>Q4</th>\n",
       "    </tr>\n",
       "    <tr>\n",
       "      <th>Year</th>\n",
       "      <th></th>\n",
       "      <th></th>\n",
       "      <th></th>\n",
       "      <th></th>\n",
       "    </tr>\n",
       "  </thead>\n",
       "  <tbody>\n",
       "    <tr>\n",
       "      <th>2020</th>\n",
       "      <td>487.0</td>\n",
       "      <td>NaN</td>\n",
       "      <td>39.0</td>\n",
       "      <td>503.0</td>\n",
       "    </tr>\n",
       "    <tr>\n",
       "      <th>2021</th>\n",
       "      <td>853.0</td>\n",
       "      <td>NaN</td>\n",
       "      <td>735.0</td>\n",
       "      <td>NaN</td>\n",
       "    </tr>\n",
       "    <tr>\n",
       "      <th>2022</th>\n",
       "      <td>NaN</td>\n",
       "      <td>954.0</td>\n",
       "      <td>953.0</td>\n",
       "      <td>NaN</td>\n",
       "    </tr>\n",
       "  </tbody>\n",
       "</table>\n",
       "</div>"
      ],
      "text/plain": [
       "Quarter     Q1     Q2     Q3     Q4\n",
       "Year                               \n",
       "2020     487.0    NaN   39.0  503.0\n",
       "2021     853.0    NaN  735.0    NaN\n",
       "2022       NaN  954.0  953.0    NaN"
      ]
     },
     "execution_count": 82,
     "metadata": {},
     "output_type": "execute_result"
    }
   ],
   "source": [
    "df = pd.DataFrame({'Year': np.random.choice([2020, 2021, 2022], size=12), 'Quarter': \n",
    "                   np.random.choice(['Q1', 'Q2', 'Q3', 'Q4'], size=12), 'Revenue': np.random.randint(1, 1000, size=12)})\n",
    "print(\"Original DataFrame:\")\n",
    "print(df)\n",
    "pivot_table=df.pivot_table(values='Revenue',index='Year',columns='Quarter',aggfunc='mean')\n",
    "pivot_table"
   ]
  },
  {
   "cell_type": "markdown",
   "metadata": {},
   "source": [
    "### Assignment 9: Applying Functions\n",
    "\n",
    "1. Create a Pandas DataFrame with 3 columns and 5 rows filled with random integers. Apply a function that doubles the values of the DataFrame."
   ]
  },
  {
   "cell_type": "code",
   "execution_count": 85,
   "metadata": {},
   "outputs": [
    {
     "name": "stdout",
     "output_type": "stream",
     "text": [
      "    A   B   C\n",
      "0  49  43  73\n",
      "1  31  82  31\n",
      "2  59  26  40\n",
      "3  77  79  70\n",
      "4   2  70  98\n",
      "     A    B    C\n",
      "0   98   86  146\n",
      "1   62  164   62\n",
      "2  118   52   80\n",
      "3  154  158  140\n",
      "4    4  140  196\n"
     ]
    }
   ],
   "source": [
    "df=pd.DataFrame(np.random.randint(1,100,size=(5,3)),columns=['A','B','C'])\n",
    "print(df)\n",
    "df=df.apply(lambda x:x*2)\n",
    "print(df)"
   ]
  },
  {
   "cell_type": "markdown",
   "metadata": {},
   "source": [
    "2. Create a Pandas DataFrame with 3 columns and 6 rows filled with random integers. Apply a lambda function to create a new column that is the sum of the existing columns."
   ]
  },
  {
   "cell_type": "code",
   "execution_count": 87,
   "metadata": {},
   "outputs": [
    {
     "name": "stdout",
     "output_type": "stream",
     "text": [
      "    A   B   C\n",
      "0   1  72  34\n",
      "1  64   5  59\n",
      "2   5  16  63\n",
      "3  96  62  62\n",
      "4  74  37  83\n",
      "5  49  53  13\n"
     ]
    },
    {
     "data": {
      "text/html": [
       "<div>\n",
       "<style scoped>\n",
       "    .dataframe tbody tr th:only-of-type {\n",
       "        vertical-align: middle;\n",
       "    }\n",
       "\n",
       "    .dataframe tbody tr th {\n",
       "        vertical-align: top;\n",
       "    }\n",
       "\n",
       "    .dataframe thead th {\n",
       "        text-align: right;\n",
       "    }\n",
       "</style>\n",
       "<table border=\"1\" class=\"dataframe\">\n",
       "  <thead>\n",
       "    <tr style=\"text-align: right;\">\n",
       "      <th></th>\n",
       "      <th>A</th>\n",
       "      <th>B</th>\n",
       "      <th>C</th>\n",
       "      <th>New Column</th>\n",
       "    </tr>\n",
       "  </thead>\n",
       "  <tbody>\n",
       "    <tr>\n",
       "      <th>0</th>\n",
       "      <td>1</td>\n",
       "      <td>72</td>\n",
       "      <td>34</td>\n",
       "      <td>107</td>\n",
       "    </tr>\n",
       "    <tr>\n",
       "      <th>1</th>\n",
       "      <td>64</td>\n",
       "      <td>5</td>\n",
       "      <td>59</td>\n",
       "      <td>128</td>\n",
       "    </tr>\n",
       "    <tr>\n",
       "      <th>2</th>\n",
       "      <td>5</td>\n",
       "      <td>16</td>\n",
       "      <td>63</td>\n",
       "      <td>84</td>\n",
       "    </tr>\n",
       "    <tr>\n",
       "      <th>3</th>\n",
       "      <td>96</td>\n",
       "      <td>62</td>\n",
       "      <td>62</td>\n",
       "      <td>220</td>\n",
       "    </tr>\n",
       "    <tr>\n",
       "      <th>4</th>\n",
       "      <td>74</td>\n",
       "      <td>37</td>\n",
       "      <td>83</td>\n",
       "      <td>194</td>\n",
       "    </tr>\n",
       "    <tr>\n",
       "      <th>5</th>\n",
       "      <td>49</td>\n",
       "      <td>53</td>\n",
       "      <td>13</td>\n",
       "      <td>115</td>\n",
       "    </tr>\n",
       "  </tbody>\n",
       "</table>\n",
       "</div>"
      ],
      "text/plain": [
       "    A   B   C  New Column\n",
       "0   1  72  34         107\n",
       "1  64   5  59         128\n",
       "2   5  16  63          84\n",
       "3  96  62  62         220\n",
       "4  74  37  83         194\n",
       "5  49  53  13         115"
      ]
     },
     "execution_count": 87,
     "metadata": {},
     "output_type": "execute_result"
    }
   ],
   "source": [
    "df=pd.DataFrame(np.random.randint(1,100,size=(6,3)),columns=['A','B','C'])\n",
    "print(df)\n",
    "df['New Column']=df.apply(lambda row: row.sum(),axis=1)\n",
    "df"
   ]
  },
  {
   "cell_type": "markdown",
   "metadata": {},
   "source": [
    "### Assignment 10: Working with Text Data\n",
    "\n",
    "1. Create a Pandas Series with 5 random text strings. Convert all the strings to uppercase."
   ]
  },
  {
   "cell_type": "code",
   "execution_count": 90,
   "metadata": {},
   "outputs": [
    {
     "name": "stdout",
     "output_type": "stream",
     "text": [
      "Original Series:\n",
      "0         apple\n",
      "1        banana\n",
      "2        cherry\n",
      "3          date\n",
      "4    strawberry\n",
      "dtype: object\n",
      "Uppercase Series:\n",
      "0         APPLE\n",
      "1        BANANA\n",
      "2        CHERRY\n",
      "3          DATE\n",
      "4    STRAWBERRY\n",
      "dtype: object\n"
     ]
    }
   ],
   "source": [
    "text_data = pd.Series(['apple', 'banana', 'cherry', 'date', 'strawberry'])\n",
    "print(\"Original Series:\")\n",
    "print(text_data)\n",
    "\n",
    "uppercase_data = text_data.str.upper()\n",
    "print(\"Uppercase Series:\")\n",
    "print(uppercase_data)"
   ]
  },
  {
   "cell_type": "markdown",
   "metadata": {},
   "source": [
    "2. Create a Pandas Series with 5 random text strings. Extract the first three characters of each string."
   ]
  },
  {
   "cell_type": "code",
   "execution_count": 91,
   "metadata": {},
   "outputs": [
    {
     "name": "stdout",
     "output_type": "stream",
     "text": [
      "Original Series:\n",
      "0         apple\n",
      "1        banana\n",
      "2        cherry\n",
      "3          date\n",
      "4    strawberry\n",
      "dtype: object\n",
      "0    app\n",
      "1    ban\n",
      "2    che\n",
      "3    dat\n",
      "4    str\n",
      "dtype: object\n"
     ]
    }
   ],
   "source": [
    "text_data = pd.Series(['apple', 'banana', 'cherry', 'date', 'strawberry'])\n",
    "print(\"Original Series:\")\n",
    "print(text_data)\n",
    "\n",
    "three_char=text_data.str[:3]\n",
    "print(three_char)"
   ]
  },
  {
   "cell_type": "code",
   "execution_count": null,
   "id": "59abc4a1",
   "metadata": {},
   "outputs": [],
   "source": []
  }
 ],
 "metadata": {
  "kernelspec": {
   "display_name": "Python 3",
   "language": "python",
   "name": "python3"
  },
  "language_info": {
   "codemirror_mode": {
    "name": "ipython",
    "version": 3
   },
   "file_extension": ".py",
   "mimetype": "text/x-python",
   "name": "python",
   "nbconvert_exporter": "python",
   "pygments_lexer": "ipython3",
   "version": "3.12.9"
  }
 },
 "nbformat": 4,
 "nbformat_minor": 5
}
