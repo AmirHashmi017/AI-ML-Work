{
 "cells": [
  {
   "cell_type": "markdown",
   "metadata": {},
   "source": [
    "# Module: NumPy Assignments\n",
    "## Lesson: NumPy\n",
    "### Assignment 1: Array Creation and Manipulation\n",
    "\n",
    "1. Create a NumPy array of shape (5, 5) filled with random integers between 1 and 20. Replace all the elements in the third column with 1."
   ]
  },
  {
   "cell_type": "code",
   "execution_count": 7,
   "metadata": {},
   "outputs": [
    {
     "name": "stdout",
     "output_type": "stream",
     "text": [
      "[[14  6  7  9  9]\n",
      " [ 1 15 18 17 12]\n",
      " [15 16  3 11 16]\n",
      " [ 4 17  8  7 10]\n",
      " [15 17  8  7  2]]\n",
      "[[14  6  1  9  9]\n",
      " [ 1 15  1 17 12]\n",
      " [15 16  1 11 16]\n",
      " [ 4 17  1  7 10]\n",
      " [15 17  1  7  2]]\n"
     ]
    }
   ],
   "source": [
    "import numpy as np\n",
    "arr=np.random.randint(1,21,size=(5,5))\n",
    "print(arr)\n",
    "arr[:,2]=1\n",
    "print(arr)"
   ]
  },
  {
   "cell_type": "markdown",
   "metadata": {},
   "source": [
    "2. Create a NumPy array of shape (4, 4) with values from 1 to 16. Replace the diagonal elements with 0."
   ]
  },
  {
   "cell_type": "code",
   "execution_count": 8,
   "metadata": {},
   "outputs": [
    {
     "name": "stdout",
     "output_type": "stream",
     "text": [
      "[[ 1  2  3  4]\n",
      " [ 5  6  7  8]\n",
      " [ 9 10 11 12]\n",
      " [13 14 15 16]]\n",
      "[[ 0  2  3  4]\n",
      " [ 5  0  7  8]\n",
      " [ 9 10  0 12]\n",
      " [13 14 15  0]]\n"
     ]
    }
   ],
   "source": [
    "arr=np.arange(1,17,1).reshape(4,4)\n",
    "print(arr)\n",
    "np.fill_diagonal(arr,0)\n",
    "print(arr)"
   ]
  },
  {
   "cell_type": "markdown",
   "metadata": {},
   "source": [
    "### Assignment 2: Array Indexing and Slicing\n",
    "\n",
    "1. Create a NumPy array of shape (6, 6) with values from 1 to 36. Extract the sub-array consisting of the 3rd to 5th rows and 2nd to 4th columns."
   ]
  },
  {
   "cell_type": "code",
   "execution_count": 10,
   "metadata": {},
   "outputs": [
    {
     "name": "stdout",
     "output_type": "stream",
     "text": [
      "[[ 1  2  3  4  5  6]\n",
      " [ 7  8  9 10 11 12]\n",
      " [13 14 15 16 17 18]\n",
      " [19 20 21 22 23 24]\n",
      " [25 26 27 28 29 30]\n",
      " [31 32 33 34 35 36]]\n",
      "[[14 15 16]\n",
      " [20 21 22]\n",
      " [26 27 28]]\n"
     ]
    }
   ],
   "source": [
    "arr=np.arange(1,37).reshape(6,6)\n",
    "print(arr)\n",
    "print(arr[2:5,1:4])"
   ]
  },
  {
   "cell_type": "markdown",
   "metadata": {},
   "source": [
    "2. Create a NumPy array of shape (5, 5) with random integers. Extract the elements on the border."
   ]
  },
  {
   "cell_type": "code",
   "execution_count": 16,
   "metadata": {},
   "outputs": [
    {
     "name": "stdout",
     "output_type": "stream",
     "text": [
      "[[20  5 18 20 12]\n",
      " [15  8  1  9 10]\n",
      " [19 16 16  6 17]\n",
      " [14 20  5  2 13]\n",
      " [ 9  4 17 19 10]]\n",
      "[20  5 18 20 12  9  4 17 19 10 15 19 14 10 17 13]\n"
     ]
    }
   ],
   "source": [
    "arr=np.random.randint(1,21,size=(5,5))\n",
    "print(arr)\n",
    "\n",
    "borderelements=np.concatenate((arr[0],arr[-1],arr[1:-1,0],arr[1:-1,-1]))\n",
    "print(borderelements)"
   ]
  },
  {
   "cell_type": "markdown",
   "metadata": {},
   "source": [
    "### Assignment 3: Array Operations\n",
    "\n",
    "1. Create two NumPy arrays of shape (3, 4) filled with random integers. Perform element-wise addition, subtraction, multiplication, and division."
   ]
  },
  {
   "cell_type": "code",
   "execution_count": 13,
   "metadata": {},
   "outputs": [
    {
     "name": "stdout",
     "output_type": "stream",
     "text": [
      "Element-wise addition:\n",
      "[[25 27 30 23]\n",
      " [15  9 11  8]\n",
      " [20 32 12 28]]\n",
      "Element-wise subtraction:\n",
      "[[  3 -13   4 -15]\n",
      " [ -7  -7  -1  -2]\n",
      " [ -4   8   2   4]]\n",
      "Element-wise multiplication:\n",
      "[[154 140 221  76]\n",
      " [ 44   8  30  15]\n",
      " [ 96 240  35 192]]\n",
      "Element-wise division:\n",
      "[[1.27272727 0.35       1.30769231 0.21052632]\n",
      " [0.36363636 0.125      0.83333333 0.6       ]\n",
      " [0.66666667 1.66666667 1.4        1.33333333]]\n"
     ]
    }
   ],
   "source": [
    "arr1=np.random.randint(1,21,size=(3,4))\n",
    "arr2=np.random.randint(1,21,size=(3,4))\n",
    "addition=arr1+arr2\n",
    "subtraction=arr1-arr2\n",
    "multiplication=arr1*arr2\n",
    "division=arr1/arr2\n",
    "\n",
    "print(\"Element-wise addition:\")\n",
    "print(addition)\n",
    "print(\"Element-wise subtraction:\")\n",
    "print(subtraction)\n",
    "print(\"Element-wise multiplication:\")\n",
    "print(multiplication)\n",
    "print(\"Element-wise division:\")\n",
    "print(division)"
   ]
  },
  {
   "cell_type": "markdown",
   "metadata": {},
   "source": [
    "2. Create a NumPy array of shape (4, 4) with values from 1 to 16. Compute the row-wise and column-wise sum."
   ]
  },
  {
   "cell_type": "code",
   "execution_count": null,
   "metadata": {},
   "outputs": [
    {
     "name": "stdout",
     "output_type": "stream",
     "text": [
      "Row-Wise-Sum: [10 26 42 58]\n",
      "Column-Wise-Sum: [28 32 36 40]\n",
      "[[ 1  2  3  4]\n",
      " [ 5  6  7  8]\n",
      " [ 9 10 11 12]\n",
      " [13 14 15 16]]\n"
     ]
    }
   ],
   "source": [
    "arr=np.arange(1,17).reshape(4,4)\n",
    "rowwisesum=np.sum(arr,axis=1)\n",
    "columnwisesum=np.sum(arr,axis=0)\n",
    "print(f\"Row-Wise-Sum: {rowwisesum}\")\n",
    "print(f\"Column-Wise-Sum: {columnwisesum}\")\n",
    "\n"
   ]
  },
  {
   "cell_type": "markdown",
   "metadata": {},
   "source": [
    "### Assignment 4: Statistical Operations\n",
    "\n",
    "1. Create a NumPy array of shape (5, 5) filled with random integers. Compute the mean, median, standard deviation, and variance of the array."
   ]
  },
  {
   "cell_type": "code",
   "execution_count": 22,
   "metadata": {},
   "outputs": [
    {
     "name": "stdout",
     "output_type": "stream",
     "text": [
      "Mean: 8.4\n",
      "Median: 8.0\n",
      "Standard Deviation: 4.8166378315169185\n",
      "Variance: 23.200000000000003\n"
     ]
    }
   ],
   "source": [
    "arr=np.random.randint(1,21,size=(5,5))\n",
    "mean=np.mean(arr)\n",
    "median=np.median(arr)\n",
    "standarddeviation=np.std(arr)\n",
    "variance=np.var(arr)\n",
    "\n",
    "print(f\"Mean: {mean}\")\n",
    "print(f\"Median: {median}\")\n",
    "print(f\"Standard Deviation: {standarddeviation}\")\n",
    "print(f\"Variance: {variance}\")"
   ]
  },
  {
   "cell_type": "markdown",
   "metadata": {},
   "source": [
    "2. Create a NumPy array of shape (3, 3) with values from 1 to 9. Normalize the array (i.e., scale the values to have a mean of 0 and a standard deviation of 1)."
   ]
  },
  {
   "cell_type": "code",
   "execution_count": null,
   "metadata": {},
   "outputs": [
    {
     "name": "stdout",
     "output_type": "stream",
     "text": [
      "[[-1.54919334 -1.161895   -0.77459667]\n",
      " [-0.38729833  0.          0.38729833]\n",
      " [ 0.77459667  1.161895    1.54919334]]\n",
      "0.0\n",
      "1.0\n"
     ]
    }
   ],
   "source": [
    "arr=np.arange(1,10).reshape(3,3)\n",
    "\n",
    "mean=np.mean(arr)\n",
    "standarddeviation=np.std(arr)\n",
    "normalized_arr=(arr-mean)/standarddeviation   # Formula for Normalization\n",
    "print(normalized_arr)\n",
    "print(np.mean(normalized_arr)) # This should be 0 now\n",
    "print(np.std(normalized_arr))  # This should be 1 now"
   ]
  },
  {
   "cell_type": "markdown",
   "metadata": {},
   "source": [
    "### Assignment 5: Broadcasting\n",
    "\n",
    "1. Create a NumPy array of shape (3, 3) filled with random integers. Add a 1D array of shape (3,) to each row of the 2D array using broadcasting."
   ]
  },
  {
   "cell_type": "code",
   "execution_count": null,
   "metadata": {},
   "outputs": [
    {
     "name": "stdout",
     "output_type": "stream",
     "text": [
      "[[13 20 13]\n",
      " [ 2  1  6]\n",
      " [ 1  5 15]]\n",
      "[4 6 7]\n",
      "[[17 26 20]\n",
      " [ 6  7 13]\n",
      " [ 5 11 22]]\n"
     ]
    }
   ],
   "source": [
    "arr=np.random.randint(1,21,size=(3,3))\n",
    "print(arr)\n",
    "rowarr=np.random.randint(1,10,size=(3,))\n",
    "print(rowaarr=np.random.randint(1,21,size=(3,3))\n",
    "print(arr)\n",
    "rowarr=np.random.randint(1,10,size=(3,))\n",
    "print(rowarr)\n",
    "result=arr+rowarr\n",
    "print(result)rr)\n",
    "result=arr+rowarr\n",
    "print(result)"
   ]
  },
  {
   "cell_type": "markdown",
   "metadata": {},
   "source": [
    "2. Create a NumPy array of shape (4, 4) filled with random integers. Subtract a 1D array of shape (4,) from each column of the 2D array using broadcasting."
   ]
  },
  {
   "cell_type": "code",
   "execution_count": 32,
   "metadata": {},
   "outputs": [
    {
     "name": "stdout",
     "output_type": "stream",
     "text": [
      "[[ 9 13 15 19]\n",
      " [ 6 10  2  8]\n",
      " [15  7 11  3]\n",
      " [20 10  8 14]]\n",
      "[6 1 7 9]\n",
      "[[ 3  7  9 13]\n",
      " [ 5  9  1  7]\n",
      " [ 8  0  4 -4]\n",
      " [11  1 -1  5]]\n"
     ]
    }
   ],
   "source": [
    "arr=np.random.randint(1,21,size=(4,4))\n",
    "print(arr)\n",
    "columnarr=np.random.randint(1,10,size=(4,))\n",
    "print(columnarr)\n",
    "result=arr-columnarr[:,np.newaxis]\n",
    "print(result)"
   ]
  },
  {
   "cell_type": "markdown",
   "metadata": {},
   "source": [
    "### Assignment 6: Linear Algebra\n",
    "\n",
    "1. Create a NumPy array of shape (3, 3) representing a matrix. Compute its determinant, inverse, and eigenvalues."
   ]
  },
  {
   "cell_type": "code",
   "execution_count": null,
   "metadata": {},
   "outputs": [
    {
     "name": "stdout",
     "output_type": "stream",
     "text": [
      "Determinant: 283.99999999999983\n",
      "Inverse:\n",
      " [[-0.1443662   0.21830986  0.08802817]\n",
      " [-0.05985915 -0.00704225  0.1584507 ]\n",
      " [ 0.24295775 -0.14788732 -0.17253521]]\n",
      "Eigen Values: [17.99106394+0.j         -2.99553197+2.61005799j -2.99553197-2.61005799j]\n"
     ]
    }
   ],
   "source": [
    "matrix=np.random.randint(1,11,size=(3,3))\n",
    "\n",
    "determinant=np.linalg.det(matrix)\n",
    "inverse=np.linalg.inv(matrix)\n",
    "eigen_values=np.linalg.eigvals(matrix)\n",
    "\n",
    "print(f\"Determinant: {determinant}\")\n",
    "print(f\"Inverse:\\n {inverse}\")\n",
    "print(f\"Eigen Values: {eigen_values}\")"
   ]
  },
  {
   "cell_type": "markdown",
   "metadata": {},
   "source": [
    "2. Create two NumPy arrays of shape (2, 3) and (3, 2). Perform matrix multiplication on these arrays."
   ]
  },
  {
   "cell_type": "code",
   "execution_count": 36,
   "metadata": {},
   "outputs": [
    {
     "name": "stdout",
     "output_type": "stream",
     "text": [
      "Matrix multiplication result:\n",
      "[[ 51  68]\n",
      " [115 136]]\n"
     ]
    }
   ],
   "source": [
    "arr1=np.random.randint(1,11,size=(2,3))\n",
    "arr2=np.random.randint(1,11,size=(3,2))\n",
    "result=np.dot(arr1,arr2)\n",
    "\n",
    "print(\"Matrix multiplication result:\")\n",
    "print(result)"
   ]
  },
  {
   "cell_type": "markdown",
   "metadata": {},
   "source": [
    "### Assignment 7: Advanced Array Manipulation\n",
    "\n",
    "1. Create a NumPy array of shape (3, 3) with values from 1 to 9. Reshape the array to shape (1, 9) and then to shape (9, 1)."
   ]
  },
  {
   "cell_type": "code",
   "execution_count": 37,
   "metadata": {},
   "outputs": [
    {
     "name": "stdout",
     "output_type": "stream",
     "text": [
      "[[1 2 3]\n",
      " [4 5 6]\n",
      " [7 8 9]]\n",
      "[[1 2 3 4 5 6 7 8 9]]\n",
      "[[1]\n",
      " [2]\n",
      " [3]\n",
      " [4]\n",
      " [5]\n",
      " [6]\n",
      " [7]\n",
      " [8]\n",
      " [9]]\n"
     ]
    }
   ],
   "source": [
    "arr=np.arange(1,10).reshape(3,3)\n",
    "print(arr)\n",
    "arr=arr.reshape(1,9)\n",
    "print(arr)\n",
    "arr=arr.reshape(9,1)\n",
    "print(arr)"
   ]
  },
  {
   "cell_type": "markdown",
   "metadata": {},
   "source": [
    "2. Create a NumPy array of shape (5, 5) filled with random integers. Flatten the array and then reshape it back to (5, 5)."
   ]
  },
  {
   "cell_type": "code",
   "execution_count": 38,
   "metadata": {},
   "outputs": [
    {
     "name": "stdout",
     "output_type": "stream",
     "text": [
      "[[13 15 16  1  5]\n",
      " [ 6 12  9  2 13]\n",
      " [19 18 18 20 14]\n",
      " [11 16  5  8 12]\n",
      " [ 3 19 16 17 11]]\n",
      "[13 15 16  1  5  6 12  9  2 13 19 18 18 20 14 11 16  5  8 12  3 19 16 17\n",
      " 11]\n",
      "[13 15 16  1  5  6 12  9  2 13 19 18 18 20 14 11 16  5  8 12  3 19 16 17\n",
      " 11]\n"
     ]
    }
   ],
   "source": [
    "arr=np.random.randint(1,21,size=(5,5))\n",
    "print(arr)\n",
    "arr=arr.flatten()\n",
    "print(arr)\n",
    "arr.reshape(5,5)\n",
    "print(arr)"
   ]
  },
  {
   "cell_type": "markdown",
   "metadata": {},
   "source": [
    "### Assignment 8: Fancy Indexing and Boolean Indexing\n",
    "\n",
    "1. Create a NumPy array of shape (5, 5) filled with random integers. Use fancy indexing to extract the elements at the corners of the array."
   ]
  },
  {
   "cell_type": "code",
   "execution_count": null,
   "metadata": {},
   "outputs": [
    {
     "name": "stdout",
     "output_type": "stream",
     "text": [
      "[np.int32(19), np.int32(7), np.int32(6), np.int32(17)]\n"
     ]
    }
   ],
   "source": [
    "arr=np.random.randint(1,21,size=(5,5))\n",
    "corner=arr[[0,0,-1,-1],[0,-1,0,-1]] \n",
    "# in fancy addressing it is taken as a pair 1 fom list1 and other from2\n",
    "print(corner)"
   ]
  },
  {
   "cell_type": "markdown",
   "metadata": {},
   "source": [
    "2. Create a NumPy array of shape (4, 4) filled with random integers. Use boolean indexing to set all elements greater than 10 to 10."
   ]
  },
  {
   "cell_type": "code",
   "execution_count": 8,
   "metadata": {},
   "outputs": [
    {
     "name": "stdout",
     "output_type": "stream",
     "text": [
      "[[ 4 10 10  6]\n",
      " [10  4  8 10]\n",
      " [10 10 10 10]\n",
      " [10 10 10 10]]\n"
     ]
    }
   ],
   "source": [
    "arr=np.random.randint(1,21,size=(4,4))\n",
    "arr[arr>10]=10\n",
    "print(arr)"
   ]
  },
  {
   "cell_type": "markdown",
   "metadata": {},
   "source": [
    "### Assignment 9: Structured Arrays\n",
    "\n",
    "1. Create a structured array with fields 'name' (string), 'age' (integer), and 'weight' (float). Add some data and sort the array by age."
   ]
  },
  {
   "cell_type": "code",
   "execution_count": 7,
   "metadata": {},
   "outputs": [
    {
     "name": "stdout",
     "output_type": "stream",
     "text": [
      "[('Ahmad', 18, 59.5) ('Ali', 21, 67.7) ('Umer', 20, 61.5)]\n",
      "[('Ahmad', 18, 59.5) ('Umer', 20, 61.5) ('Ali', 21, 67.7)]\n"
     ]
    }
   ],
   "source": [
    "data_types=[('name','U10'),(\"age\",\"i4\"),(\"weight\",\"f4\")]\n",
    "array=np.array([(\"Ahmad\",18,59.5),(\"Ali\",21,67.7),(\"Umer\",20,61.5)],dtype=data_types)\n",
    "print(array)\n",
    "sorted_array=np.sort(array,order=\"age\")\n",
    "print(sorted_array)"
   ]
  },
  {
   "cell_type": "markdown",
   "metadata": {},
   "source": [
    "2. Create a structured array with fields 'x' and 'y' (both integers). Add some data and compute the Euclidean distance between each pair of points."
   ]
  },
  {
   "cell_type": "code",
   "execution_count": 15,
   "metadata": {},
   "outputs": [
    {
     "name": "stdout",
     "output_type": "stream",
     "text": [
      "Euclidean Distance:  [[0.         2.82842712 5.65685425]\n",
      " [2.82842712 0.         2.82842712]\n",
      " [5.65685425 2.82842712 0.        ]]\n"
     ]
    }
   ],
   "source": [
    "data_types=[('x','i4'),('y','i4')]\n",
    "arr=np.array([(1,2),(3,4),(5,6)],dtype=data_types)\n",
    "euclidean_distance=np.sqrt((arr['x'][:,np.newaxis]-arr['x'])**2+(arr['y'][:,np.newaxis]-arr['y'])**2)\n",
    "print(\"Euclidean Distance: \",euclidean_distance)"
   ]
  },
  {
   "cell_type": "markdown",
   "metadata": {},
   "source": [
    "### Assignment 10: Masked Arrays\n",
    "\n",
    "1. Create a masked array of shape (4, 4) with random integers and mask the elements greater than 10. Compute the sum of the unmasked elements."
   ]
  },
  {
   "cell_type": "code",
   "execution_count": 19,
   "metadata": {},
   "outputs": [
    {
     "name": "stdout",
     "output_type": "stream",
     "text": [
      "[[ 9 13 17  9]\n",
      " [11  6 20 18]\n",
      " [14 18  2 11]\n",
      " [12  7 15  9]]\n",
      "[[9 -- -- 9]\n",
      " [-- 6 -- --]\n",
      " [-- -- 2 --]\n",
      " [-- 7 -- 9]]\n",
      "Sum of Unmasked Elements:  42\n"
     ]
    }
   ],
   "source": [
    "import numpy.ma as ma\n",
    "arr=np.random.randint(1,21,size=(4,4))\n",
    "print(arr)\n",
    "masked_array=ma.masked_greater(arr,10)\n",
    "print(masked_array)\n",
    "sum_of_unmasked=masked_array.sum()\n",
    "print(\"Sum of Unmasked Elements: \",sum_of_unmasked)"
   ]
  },
  {
   "cell_type": "markdown",
   "metadata": {},
   "source": [
    "2. Create a masked array of shape (3, 3) with random integers and mask the diagonal elements. Replace the masked elements with the mean of the unmasked elements."
   ]
  },
  {
   "cell_type": "code",
   "execution_count": 21,
   "metadata": {},
   "outputs": [
    {
     "name": "stdout",
     "output_type": "stream",
     "text": [
      "[[ 8  3 17]\n",
      " [12  7 14]\n",
      " [ 9 15  7]]\n",
      "[[-- 3 17]\n",
      " [12 -- 14]\n",
      " [9 15 --]]\n",
      "[[11  3 17]\n",
      " [12 11 14]\n",
      " [ 9 15 11]]\n"
     ]
    }
   ],
   "source": [
    "arr=np.random.randint(1,21,size=(3,3))\n",
    "print(arr)\n",
    "masked_arr=ma.masked_array(arr,mask=np.eye(3,dtype=bool))\n",
    "print(masked_arr)\n",
    "masked_arr=masked_arr.filled(masked_arr.mean())\n",
    "print(masked_arr)"
   ]
  },
  {
   "cell_type": "code",
   "execution_count": null,
   "id": "f7f4cee0",
   "metadata": {},
   "outputs": [],
   "source": []
  }
 ],
 "metadata": {
  "kernelspec": {
   "display_name": "Python 3",
   "language": "python",
   "name": "python3"
  },
  "language_info": {
   "codemirror_mode": {
    "name": "ipython",
    "version": 3
   },
   "file_extension": ".py",
   "mimetype": "text/x-python",
   "name": "python",
   "nbconvert_exporter": "python",
   "pygments_lexer": "ipython3",
   "version": "3.12.9"
  }
 },
 "nbformat": 4,
 "nbformat_minor": 5
}
