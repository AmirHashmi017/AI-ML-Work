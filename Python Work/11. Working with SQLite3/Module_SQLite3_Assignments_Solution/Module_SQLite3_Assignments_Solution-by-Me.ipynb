{
 "cells": [
  {
   "cell_type": "markdown",
   "metadata": {},
   "source": [
    "# Module: SQLite3 Assignments\n",
    "## Lesson: SQLite3\n",
    "### Assignment 1: Creating and Connecting to a Database\n",
    "\n",
    "1. Write a Python function to create a new SQLite3 database named `test.db`."
   ]
  },
  {
   "cell_type": "code",
   "execution_count": 2,
   "metadata": {},
   "outputs": [
    {
     "name": "stdout",
     "output_type": "stream",
     "text": [
      "Database test created successfuly\n"
     ]
    }
   ],
   "source": [
    "import sqlite3\n",
    "def CreateDatabase(databasename):\n",
    "    connection=sqlite3.connect(f\"{databasename}.db\")\n",
    "    connection.close()\n",
    "    print(f\"Database {databasename} created successfuly\")\n",
    "\n",
    "CreateDatabase(\"test\")"
   ]
  },
  {
   "cell_type": "markdown",
   "metadata": {},
   "source": [
    "2. Write a Python function to create a table named `employees` with columns `id` (integer), `name` (text), `age` (integer), and `department` (text) in the `test.db` database."
   ]
  },
  {
   "cell_type": "code",
   "execution_count": 7,
   "metadata": {},
   "outputs": [
    {
     "name": "stdout",
     "output_type": "stream",
     "text": [
      "Table Created successfully\n"
     ]
    }
   ],
   "source": [
    "def CreateTable():\n",
    "    connection=sqlite3.connect(\"test.db\")\n",
    "    cursor=connection.cursor()\n",
    "    cursor.execute('''CREATE TABLE IF NOT EXISTS employees (\n",
    "                   id INTEGER PRIMARY KEY,\n",
    "                   name TEXT NOT NULL,\n",
    "                   age INTEGER NOT NULL,\n",
    "                   department TEXT NOT NULL\n",
    "                   )''')\n",
    "    connection.commit()\n",
    "    connection.close()\n",
    "    print(\"Table Created successfully\")\n",
    "\n",
    "CreateTable()\n"
   ]
  },
  {
   "cell_type": "markdown",
   "metadata": {},
   "source": [
    "### Assignment 2: Inserting Data\n",
    "\n",
    "1. Write a Python function to insert a new employee into the `employees` table."
   ]
  },
  {
   "cell_type": "code",
   "execution_count": 9,
   "metadata": {},
   "outputs": [],
   "source": [
    "def InsertEmployee(id,name,age,department):\n",
    "    connection=sqlite3.connect(\"test.db\")\n",
    "    cursor=connection.cursor()\n",
    "    cursor.execute('''INSERT INTO employees(id,name,age,department)\n",
    "                   VALUES(?,?,?,?)''',(id,name,age,department))\n",
    "    connection.commit()\n",
    "    connection.close()\n",
    "InsertEmployee(2,'Ashir',15,'Finance')"
   ]
  },
  {
   "cell_type": "markdown",
   "metadata": {},
   "source": [
    "2. Insert at least 5 different employees into the `employees` table."
   ]
  },
  {
   "cell_type": "code",
   "execution_count": 10,
   "metadata": {},
   "outputs": [],
   "source": [
    "InsertEmployee(3,'Ali Raza',21,'Medical Billing')\n",
    "InsertEmployee(4,'Ahmed',19,'HR')\n",
    "InsertEmployee(5,'Umer',20,'Sales')\n",
    "InsertEmployee(6,'Hassan',18,'Public Relations')\n",
    "InsertEmployee(7,'Mobeen',19,'Management')"
   ]
  },
  {
   "cell_type": "markdown",
   "metadata": {},
   "source": [
    "### Assignment 3: Querying Data\n",
    "\n",
    "1. Write a Python function to fetch and display all records from the `employees` table."
   ]
  },
  {
   "cell_type": "code",
   "execution_count": 27,
   "metadata": {},
   "outputs": [
    {
     "name": "stdout",
     "output_type": "stream",
     "text": [
      "(1, 'Amir Hashmi', 18, 'IT')\n",
      "(2, 'Ashir', 15, 'Finance')\n",
      "(3, 'Ali Raza', 21, 'Medical Billing')\n",
      "(4, 'Ahmed', 19, 'HR')\n",
      "(5, 'Umer', 20, 'Sales')\n",
      "(6, 'Hassan', 18, 'HR')\n",
      "(7, 'Mobeen', 19, 'IT')\n"
     ]
    }
   ],
   "source": [
    "def display_records():\n",
    "    connection=sqlite3.connect(\"test.db\")\n",
    "    cursor=connection.cursor()\n",
    "    cursor.execute('SELECT * FROM employees')\n",
    "    rows=cursor.fetchall()\n",
    "    for row in rows:\n",
    "        print(row)\n",
    "    connection.close()\n",
    "\n",
    "display_records()"
   ]
  },
  {
   "cell_type": "markdown",
   "metadata": {},
   "source": [
    "2. Write a Python function to fetch and display all employees from a specific department."
   ]
  },
  {
   "cell_type": "code",
   "execution_count": 25,
   "metadata": {},
   "outputs": [
    {
     "name": "stdout",
     "output_type": "stream",
     "text": [
      "(1, 'Amir Hashmi', 18, 'IT')\n",
      "(7, 'Mobeen', 19, 'IT')\n"
     ]
    }
   ],
   "source": [
    "def get_employee_by_department(department_name):\n",
    "    connection=sqlite3.connect(\"test.db\")\n",
    "    cursor=connection.cursor()\n",
    "    cursor.execute('SELECT * FROM employees WHERE department=?',(department_name,))\n",
    "    rows=cursor.fetchall()\n",
    "    connection.close()\n",
    "    for row in rows:\n",
    "        print(row)\n",
    "\n",
    "get_employee_by_department(\"IT\")  "
   ]
  },
  {
   "cell_type": "markdown",
   "metadata": {},
   "source": [
    "### Assignment 4: Updating Data\n",
    "\n",
    "1. Write a Python function to update the department of an employee based on their `id`."
   ]
  },
  {
   "cell_type": "code",
   "execution_count": 23,
   "metadata": {},
   "outputs": [],
   "source": [
    "def update_department(id,newdepartment):\n",
    "    connection=sqlite3.connect(\"test.db\")\n",
    "    cursor=connection.cursor()\n",
    "    cursor.execute('''UPDATE employees SET department=? WHERE id=?''',(newdepartment,id))\n",
    "    connection.commit()\n",
    "    connection.close()\n",
    "\n",
    "update_department(7,'IT')  "
   ]
  },
  {
   "cell_type": "markdown",
   "metadata": {},
   "source": [
    "2. Update the department of at least 2 employees and display the updated records."
   ]
  },
  {
   "cell_type": "code",
   "execution_count": 28,
   "metadata": {},
   "outputs": [
    {
     "name": "stdout",
     "output_type": "stream",
     "text": [
      "(1, 'Amir Hashmi', 18, 'IT')\n",
      "(2, 'Ashir', 15, 'Finance')\n",
      "(3, 'Ali Raza', 21, 'Medical Billing')\n",
      "(4, 'Ahmed', 19, 'HR')\n",
      "(5, 'Umer', 20, 'Sales')\n",
      "(6, 'Hassan', 18, 'HR')\n",
      "(7, 'Mobeen', 19, 'IT')\n"
     ]
    }
   ],
   "source": [
    "update_department(7,'IT') \n",
    "update_department(6,'HR') \n",
    "\n",
    "display_records()"
   ]
  },
  {
   "cell_type": "markdown",
   "metadata": {},
   "source": [
    "### Assignment 5: Deleting Data\n",
    "\n",
    "1. Write a Python function to delete an employee from the `employees` table based on their `id`."
   ]
  },
  {
   "cell_type": "code",
   "execution_count": 30,
   "metadata": {},
   "outputs": [],
   "source": [
    "def delete_employee(id):\n",
    "    connection=sqlite3.connect(\"test.db\")\n",
    "    cursor=connection.cursor()\n",
    "    cursor.execute('''DELETE FROM employees WHERE id=?''',(id,))\n",
    "    connection.commit()\n",
    "    connection.close()\n"
   ]
  },
  {
   "cell_type": "markdown",
   "metadata": {},
   "source": [
    "2. Delete at least 1 employee and display the remaining records."
   ]
  },
  {
   "cell_type": "code",
   "execution_count": 31,
   "metadata": {},
   "outputs": [
    {
     "name": "stdout",
     "output_type": "stream",
     "text": [
      "(1, 'Amir Hashmi', 18, 'IT')\n",
      "(2, 'Ashir', 15, 'Finance')\n",
      "(3, 'Ali Raza', 21, 'Medical Billing')\n",
      "(4, 'Ahmed', 19, 'HR')\n",
      "(5, 'Umer', 20, 'Sales')\n",
      "(7, 'Mobeen', 19, 'IT')\n"
     ]
    }
   ],
   "source": [
    "delete_employee(6)\n",
    "display_records()"
   ]
  },
  {
   "cell_type": "markdown",
   "metadata": {},
   "source": [
    "### Assignment 6: Advanced Queries\n",
    "\n",
    "1. Write a Python function to fetch and display employees older than a certain age."
   ]
  },
  {
   "cell_type": "code",
   "execution_count": 32,
   "metadata": {},
   "outputs": [
    {
     "name": "stdout",
     "output_type": "stream",
     "text": [
      "(3, 'Ali Raza', 21, 'Medical Billing')\n",
      "(4, 'Ahmed', 19, 'HR')\n",
      "(5, 'Umer', 20, 'Sales')\n",
      "(7, 'Mobeen', 19, 'IT')\n"
     ]
    }
   ],
   "source": [
    "def display_records_with_age(age):\n",
    "    connection=sqlite3.connect(\"test.db\")\n",
    "    cursor=connection.cursor()\n",
    "    cursor.execute('SELECT * FROM employees WHERE age>?',(age,))\n",
    "    rows=cursor.fetchall()\n",
    "    for row in rows:\n",
    "        print(row)\n",
    "    connection.close()\n",
    "\n",
    "display_records_with_age(18)"
   ]
  },
  {
   "cell_type": "markdown",
   "metadata": {},
   "source": [
    "2. Write a Python function to fetch and display employees whose names start with a specific letter."
   ]
  },
  {
   "cell_type": "code",
   "execution_count": 40,
   "metadata": {},
   "outputs": [
    {
     "name": "stdout",
     "output_type": "stream",
     "text": [
      "(5, 'Umer', 20, 'Sales')\n"
     ]
    }
   ],
   "source": [
    "def display_records_with_letter(start_letter):\n",
    "    connection=sqlite3.connect(\"test.db\")\n",
    "    cursor=connection.cursor()\n",
    "    cursor.execute('SELECT * FROM employees WHERE name LIKE ?',(start_letter+'%',))\n",
    "    rows=cursor.fetchall()\n",
    "    for row in rows:\n",
    "        print(row)\n",
    "    connection.close()\n",
    "\n",
    "display_records_with_letter('U')"
   ]
  },
  {
   "cell_type": "markdown",
   "metadata": {},
   "source": [
    "### Assignment 7: Handling Transactions\n",
    "\n",
    "1. Write a Python function to insert multiple employees into the `employees` table in a single transaction. Ensure that if any insertion fails, none of the insertions are committed."
   ]
  },
  {
   "cell_type": "code",
   "execution_count": 45,
   "metadata": {},
   "outputs": [
    {
     "name": "stdout",
     "output_type": "stream",
     "text": [
      "UNIQUE constraint failed: employees.id\n",
      "(1, 'Amir Hashmi', 18, 'IT')\n",
      "(2, 'Ashir', 15, 'Finance')\n",
      "(3, 'Ali Raza', 21, 'Medical Billing')\n",
      "(4, 'Ahmed', 19, 'HR')\n",
      "(5, 'Umer', 20, 'Sales')\n",
      "(6, 'Frank', 40, 'Finance')\n",
      "(7, 'Mobeen', 19, 'IT')\n",
      "(8, 'Hannah', 35, 'Marketing')\n",
      "(9, 'Ivan', 38, 'Sales')\n"
     ]
    }
   ],
   "source": [
    "def InsertEmployee_Transaction(employees):\n",
    "    connection=sqlite3.connect(\"test.db\")\n",
    "    cursor=connection.cursor()\n",
    "    try:\n",
    "        cursor.executemany('''INSERT INTO employees(id,name,age,department)\n",
    "                       VALUES(?,?,?,?)''',(employees))\n",
    "        connection.commit()\n",
    "        print(\"Sucessfully Inserted all records\")\n",
    "    except Exception as err:\n",
    "        connection.rollback()\n",
    "        print(err)\n",
    "    finally:\n",
    "        connection.close()\n",
    "\n",
    "employees = [\n",
    "    (6, 'Frank', 40, 'Finance'),\n",
    "    (8, 'Hannah', 35, 'Marketing'),\n",
    "    (9, 'Ivan', 38, 'Sales'),\n",
    "     \n",
    "]\n",
    "InsertEmployee_Transaction(employees)\n",
    "display_records()"
   ]
  },
  {
   "cell_type": "markdown",
   "metadata": {},
   "source": [
    "2. Write a Python function to update the age of multiple employees in a single transaction. Ensure that if any update fails, none of the updates are committed."
   ]
  },
  {
   "cell_type": "code",
   "execution_count": 53,
   "metadata": {},
   "outputs": [
    {
     "name": "stdout",
     "output_type": "stream",
     "text": [
      "Sucessfully Updated all records\n",
      "(1, 'Amir Hashmi', 32, 'IT')\n",
      "(2, 'Ashir', 26, 'Finance')\n",
      "(3, 'Ali Raza', 33, 'Medical Billing')\n",
      "(4, 'Ahmed', 41, 'HR')\n",
      "(5, 'Umer', 24, 'Sales')\n",
      "(6, 'Frank', 40, 'Finance')\n",
      "(7, 'Mobeen', 33, 'IT')\n",
      "(8, 'Hannah', 35, 'Marketing')\n",
      "(9, 'Ivan', 38, 'Sales')\n"
     ]
    }
   ],
   "source": [
    "def UpdateEmployee_Transaction(updates):\n",
    "    connection=sqlite3.connect(\"test.db\")\n",
    "    cursor=connection.cursor()\n",
    "    try:\n",
    "        cursor.executemany('''UPDATE employees SET age=? WHERE id=?''',updates)\n",
    "        connection.commit()\n",
    "        print(\"Sucessfully Updated all records\")\n",
    "    except Exception as err:\n",
    "        connection.rollback()\n",
    "        print(err)\n",
    "    finally:\n",
    "        connection.close()\n",
    "\n",
    "updates = [\n",
    "    (33, 7),\n",
    "    (26, 2),\n",
    "    (33, 3),\n",
    "    (24, 5)\n",
    "]\n",
    "UpdateEmployee_Transaction(updates)\n",
    "display_records()"
   ]
  },
  {
   "cell_type": "markdown",
   "metadata": {},
   "source": [
    "### Assignment 8: Creating Relationships\n",
    "\n",
    "1. Create a new table named `departments` with columns `id` (integer) and `name` (text)."
   ]
  },
  {
   "cell_type": "code",
   "execution_count": 56,
   "metadata": {},
   "outputs": [],
   "source": [
    "connection=sqlite3.connect(\"test.db\")\n",
    "cursor=connection.cursor()\n",
    "cursor.execute('''CREATE TABLE IF NOT EXISTS departments(\n",
    "               id INTEGER PRIMARY KEY,\n",
    "               name TEXT NOT NULL)''')\n",
    "connection.commit()\n",
    "connection.close()"
   ]
  },
  {
   "cell_type": "markdown",
   "metadata": {},
   "source": [
    "2. Modify the `employees` table to include a foreign key referencing the `id` column in the `departments` table."
   ]
  },
  {
   "cell_type": "code",
   "execution_count": 68,
   "metadata": {},
   "outputs": [],
   "source": [
    "def add_department_foriegn_key():\n",
    "    connection=sqlite3.connect(\"test.db\")\n",
    "    cursor=connection.cursor()\n",
    "    cursor.executescript('''\n",
    "        PRAGMA foreign_keys=off;\n",
    "        BEGIN TRANSACTION;\n",
    "        ALTER TABLE employees RENAME TO old_employees;\n",
    "        CREATE TABLE employees (\n",
    "            id INTEGER PRIMARY KEY,\n",
    "            name TEXT NOT NULL,\n",
    "            age INTEGER,\n",
    "            department TEXT,\n",
    "            department_id INTEGER,\n",
    "            FOREIGN KEY(department_id) REFERENCES departments(id)\n",
    "        );\n",
    "        INSERT INTO employees (id, name, age, department)\n",
    "        SELECT id, name, age, department FROM old_employees;\n",
    "        DROP TABLE old_employees;\n",
    "        COMMIT;\n",
    "        PRAGMA foreign_keys=on;\n",
    "    ''')\n",
    "    connection.commit()\n",
    "    connection.close()\n",
    "\n",
    "add_department_foriegn_key()"
   ]
  },
  {
   "cell_type": "markdown",
   "metadata": {},
   "source": [
    "3. Write a Python function to insert data into both the `departments` and `employees` tables, ensuring referential integrity."
   ]
  },
  {
   "cell_type": "code",
   "execution_count": 69,
   "metadata": {},
   "outputs": [
    {
     "name": "stdout",
     "output_type": "stream",
     "text": [
      "Error occurred, transaction rolled back.\n",
      "UNIQUE constraint failed: departments.id\n"
     ]
    }
   ],
   "source": [
    "def insert_department_and_employee(department_id, department_name, employee_id, name, age, department):\n",
    "    conn = sqlite3.connect('test.db')\n",
    "    cursor = conn.cursor()\n",
    "    try:\n",
    "        cursor.execute('''\n",
    "            INSERT INTO departments (id, name)\n",
    "            VALUES (?, ?)\n",
    "        ''', (department_id, department_name))\n",
    "        cursor.execute('''\n",
    "            INSERT INTO employees (id, name, age, department, department_id)\n",
    "            VALUES (?, ?, ?, ?, ?)\n",
    "        ''', (employee_id, name, age, department, department_id))\n",
    "        conn.commit()\n",
    "        print(\"Department and employee inserted successfully.\")\n",
    "    except Exception as e:\n",
    "        conn.rollback()\n",
    "        print(\"Error occurred, transaction rolled back.\")\n",
    "        print(e)\n",
    "    finally:\n",
    "        conn.close()\n",
    "\n",
    "\n",
    "insert_department_and_employee(1, 'Finance', 10, 'Zara', 28, 'Finance')"
   ]
  },
  {
   "cell_type": "markdown",
   "metadata": {},
   "source": [
    "### Assignment 9: Indexing and Optimization\n",
    "\n",
    "1. Create an index on the `name` column of the `employees` table."
   ]
  },
  {
   "cell_type": "code",
   "execution_count": 71,
   "metadata": {},
   "outputs": [],
   "source": [
    "def create_name_index():\n",
    "    connection=sqlite3.connect(\"test.db\")\n",
    "    cursor=connection.cursor()\n",
    "    cursor.execute(\"CREATE INDEX idx_name ON employees(name)\")\n",
    "    connection.commit()\n",
    "    connection.close()\n",
    "\n",
    "create_name_index()"
   ]
  },
  {
   "cell_type": "markdown",
   "metadata": {},
   "source": [
    "2. Write a Python function to fetch and display all employees whose names start with a specific letter. Compare the performance with and without the index."
   ]
  },
  {
   "cell_type": "code",
   "execution_count": 73,
   "metadata": {},
   "outputs": [
    {
     "name": "stdout",
     "output_type": "stream",
     "text": [
      "Time taken: 0.0006582736968994141 seconds\n",
      "(1, 'Amir Hashmi', 32, 'IT', None)\n",
      "(2, 'Ashir', 26, 'Finance', None)\n",
      "(3, 'Ali Raza', 33, 'Medical Billing', None)\n",
      "(4, 'Ahmed', 41, 'HR', None)\n"
     ]
    }
   ],
   "source": [
    "import time\n",
    "\n",
    "def fetch_employees_name_starts_with_performance(letter):\n",
    "    conn = sqlite3.connect('test.db')\n",
    "    cursor = conn.cursor()\n",
    "    start_time = time.time()\n",
    "    cursor.execute('SELECT * FROM employees WHERE name LIKE ?', (letter + '%',))\n",
    "    records = cursor.fetchall()\n",
    "    end_time = time.time()\n",
    "    conn.close()\n",
    "    print(\"Time taken: {} seconds\".format(end_time - start_time))\n",
    "    for record in records:\n",
    "        print(record)\n",
    "\n",
    "fetch_employees_name_starts_with_performance('A')"
   ]
  },
  {
   "cell_type": "markdown",
   "metadata": {},
   "source": [
    "### Assignment 10: Backing Up and Restoring Data\n",
    "\n",
    "1. Write a Python function to back up the `test.db` database to a file named `backup.db`."
   ]
  },
  {
   "cell_type": "code",
   "execution_count": 74,
   "metadata": {},
   "outputs": [
    {
     "name": "stdout",
     "output_type": "stream",
     "text": [
      "Backup Successful\n"
     ]
    }
   ],
   "source": [
    "import shutil\n",
    "def backup_database():\n",
    "    shutil.copy('test.db','backup.db')\n",
    "    print(\"Backup Successful\")\n",
    "backup_database()"
   ]
  },
  {
   "cell_type": "markdown",
   "metadata": {},
   "source": [
    "2. Write a Python function to restore the `test.db` database from the `backup.db` file."
   ]
  },
  {
   "cell_type": "code",
   "execution_count": 75,
   "metadata": {},
   "outputs": [
    {
     "name": "stdout",
     "output_type": "stream",
     "text": [
      "Restore Successful\n"
     ]
    }
   ],
   "source": [
    "import shutil\n",
    "def restore_database():\n",
    "    shutil.copy('backup.db','test.db')\n",
    "    print(\"Restore Successful\")\n",
    "restore_database()"
   ]
  },
  {
   "cell_type": "code",
   "execution_count": null,
   "id": "8d7f16d3",
   "metadata": {},
   "outputs": [],
   "source": []
  }
 ],
 "metadata": {
  "kernelspec": {
   "display_name": "Python 3",
   "language": "python",
   "name": "python3"
  },
  "language_info": {
   "codemirror_mode": {
    "name": "ipython",
    "version": 3
   },
   "file_extension": ".py",
   "mimetype": "text/x-python",
   "name": "python",
   "nbconvert_exporter": "python",
   "pygments_lexer": "ipython3",
   "version": "3.12.9"
  }
 },
 "nbformat": 4,
 "nbformat_minor": 5
}
