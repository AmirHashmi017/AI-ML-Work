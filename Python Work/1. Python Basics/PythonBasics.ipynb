{
 "cells": [
  {
   "cell_type": "markdown",
   "id": "6c8be321",
   "metadata": {},
   "source": [
    "# Python Basics"
   ]
  },
  {
   "cell_type": "markdown",
   "id": "2d0c93eb",
   "metadata": {},
   "source": [
    "### Single Line Comment"
   ]
  },
  {
   "cell_type": "code",
   "execution_count": 1,
   "id": "5b40da37",
   "metadata": {},
   "outputs": [
    {
     "name": "stdout",
     "output_type": "stream",
     "text": [
      "4\n"
     ]
    }
   ],
   "source": [
    "# This is code of adding two numbers\n",
    "print(2+2)"
   ]
  },
  {
   "cell_type": "markdown",
   "id": "7fa8f400",
   "metadata": {},
   "source": [
    "### MultiLine Comments"
   ]
  },
  {
   "cell_type": "code",
   "execution_count": 4,
   "id": "a761e461",
   "metadata": {},
   "outputs": [
    {
     "name": "stdout",
     "output_type": "stream",
     "text": [
      "Python is Case Sensitive\n"
     ]
    }
   ],
   "source": [
    "'''I am a \n",
    "multi-line comment'''\n",
    "print(\"Python is Case Sensitive\")"
   ]
  },
  {
   "cell_type": "code",
   "execution_count": 6,
   "id": "48dc6733",
   "metadata": {},
   "outputs": [
    {
     "name": "stdout",
     "output_type": "stream",
     "text": [
      "91\n"
     ]
    }
   ],
   "source": [
    "# Line Continuation\n",
    "#You can use backslash \\ for continuing to next line\n",
    "total=1+2+3+4+5+6+7+8+9+10+\\\n",
    "11+12+13\n",
    "print(total)"
   ]
  },
  {
   "cell_type": "code",
   "execution_count": 7,
   "id": "d85b3c86",
   "metadata": {},
   "outputs": [
    {
     "name": "stdout",
     "output_type": "stream",
     "text": [
      "5 10 15\n"
     ]
    }
   ],
   "source": [
    "# Writing multiple Commands to one line seperate by semi-colon ;\n",
    "x=5; y=10; z=x+y\n",
    "print(x, y, z)"
   ]
  },
  {
   "cell_type": "code",
   "execution_count": 8,
   "id": "84be88d1",
   "metadata": {},
   "outputs": [
    {
     "name": "stdout",
     "output_type": "stream",
     "text": [
      "<class 'int'>\n",
      "<class 'str'>\n"
     ]
    }
   ],
   "source": [
    "# Python automatically detects the data type of a variable called Type Inference\n",
    "x = 5\n",
    "y = \"Hello\"\n",
    "print(type(x)) \n",
    "print(type(y))\n",
    "# Python is dynamically typed, meaning you can change the type of a variable"
   ]
  },
  {
   "cell_type": "code",
   "execution_count": 13,
   "id": "a801ef36",
   "metadata": {},
   "outputs": [
    {
     "name": "stdout",
     "output_type": "stream",
     "text": [
      "Sum:  6.0\n",
      "Difference:  1.0\n",
      "Product:  8.75\n",
      "Division:  1.4\n",
      "Floor Division:  1.0\n",
      "Modulus:  1.0\n",
      "Exponent:  22.91765149399039\n"
     ]
    }
   ],
   "source": [
    "# Small Calculator\n",
    "num1= float(input(\"Enter 1st Number: \"))\n",
    "num2= float(input(\"Enter 2nd Number: \"))\n",
    "sum=num1+num2\n",
    "difference=num1-num2\n",
    "product=num1*num2\n",
    "division=num1/num2\n",
    "floordivision=num1//num2\n",
    "modulus=num1%num2\n",
    "exponent=num1**num2\n",
    "\n",
    "print(\"Sum: \",sum)\n",
    "print(\"Difference: \",difference)\n",
    "print(\"Product: \",product)\n",
    "print(\"Division: \",division)\n",
    "print(\"Floor Division: \",floordivision)\n",
    "print(\"Modulus: \",modulus)\n",
    "print(\"Exponent: \",exponent)\n"
   ]
  },
  {
   "cell_type": "code",
   "execution_count": null,
   "id": "fffa1f95",
   "metadata": {},
   "outputs": [],
   "source": []
  }
 ],
 "metadata": {
  "kernelspec": {
   "display_name": "Python 3",
   "language": "python",
   "name": "python3"
  },
  "language_info": {
   "codemirror_mode": {
    "name": "ipython",
    "version": 3
   },
   "file_extension": ".py",
   "mimetype": "text/x-python",
   "name": "python",
   "nbconvert_exporter": "python",
   "pygments_lexer": "ipython3",
   "version": "3.12.9"
  }
 },
 "nbformat": 4,
 "nbformat_minor": 5
}
