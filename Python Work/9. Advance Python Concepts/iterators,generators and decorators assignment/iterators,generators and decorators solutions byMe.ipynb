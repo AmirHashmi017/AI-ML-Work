{
 "cells": [
  {
   "cell_type": "markdown",
   "metadata": {},
   "source": [
    "# Module: Iterators, Generators, and Decorators Assignments\n",
    "## Lesson: Iterators, Generators, and Decorators\n",
    "### Assignment 1: Custom Iterator\n",
    "\n",
    "Create a custom iterator class named `Countdown` that takes a number and counts down to zero. Implement the `__iter__` and `__next__` methods. Test the iterator by using it in a for loop."
   ]
  },
  {
   "cell_type": "code",
   "execution_count": null,
   "metadata": {},
   "outputs": [
    {
     "name": "stdout",
     "output_type": "stream",
     "text": [
      "4\n",
      "3\n",
      "2\n",
      "1\n",
      "0\n",
      "The number has gone down to zero.\n",
      "4\n",
      "3\n",
      "2\n",
      "1\n",
      "0\n",
      "The number has gone down to zero.\n"
     ]
    }
   ],
   "source": [
    "class Countdown:\n",
    "    def __init__(self,number):\n",
    "        self.number=number\n",
    "    def __iter__(self):\n",
    "        return self\n",
    "    def __next__(self):\n",
    "        if self.number<=0:\n",
    "            raise StopIteration(\"The number has gone down to zero.\")\n",
    "        else:\n",
    "            self.number-=1\n",
    "        return self.number\n",
    "        \n",
    "# Test\n",
    "try:\n",
    "    for number in Countdown(5):\n",
    "        print(number)\n",
    "except StopIteration as err:\n",
    "    print(err)\n",
    "# Another way of calling\n",
    "counter=Countdown(5)\n",
    "while True:\n",
    "    try:\n",
    "        print(next(counter))\n",
    "    except StopIteration as err:\n",
    "        print(err)\n",
    "        break"
   ]
  },
  {
   "cell_type": "markdown",
   "metadata": {},
   "source": [
    "### Assignment 2: Custom Iterable Class\n",
    "\n",
    "Create a class named `MyRange` that mimics the behavior of the built-in `range` function. Implement the `__iter__` and `__next__` methods. Test the class by using it in a for loop."
   ]
  },
  {
   "cell_type": "code",
   "execution_count": 12,
   "metadata": {},
   "outputs": [
    {
     "name": "stdout",
     "output_type": "stream",
     "text": [
      "1\n",
      "2\n",
      "3\n",
      "4\n",
      "The index is out of range\n"
     ]
    }
   ],
   "source": [
    "class MyRange:\n",
    "    def __init__(self,start,end):\n",
    "        self.number=start\n",
    "        self.end=end\n",
    "    def __iter__(self):\n",
    "        return self\n",
    "    def __next__(self):\n",
    "        if self.number>=self.end:\n",
    "            raise StopIteration(\"The index is out of range\")\n",
    "        else:\n",
    "            self.number+=1\n",
    "            return self.number-1\n",
    "# Test\n",
    "try:\n",
    "    for number in MyRange(1, 5):\n",
    "        print(number)\n",
    "except StopIteration as err:\n",
    "    print(err)"
   ]
  },
  {
   "cell_type": "markdown",
   "metadata": {},
   "source": [
    "### Assignment 3: Generator Function\n",
    "\n",
    "Write a generator function named `fibonacci` that yields the Fibonacci sequence. Test the generator by iterating over it and printing the first 10 Fibonacci numbers."
   ]
  },
  {
   "cell_type": "code",
   "execution_count": 15,
   "metadata": {},
   "outputs": [
    {
     "name": "stdout",
     "output_type": "stream",
     "text": [
      "0\n",
      "1\n",
      "1\n",
      "2\n",
      "3\n",
      "5\n",
      "8\n",
      "13\n",
      "21\n",
      "34\n"
     ]
    }
   ],
   "source": [
    "def fibonacci(number):\n",
    "    a,b=0,1\n",
    "    for i in range(number):\n",
    "        yield a\n",
    "        a,b=b,a+b\n",
    "\n",
    "# Test\n",
    "for num in fibonacci(10):\n",
    "    print(num)\n"
   ]
  },
  {
   "cell_type": "markdown",
   "metadata": {},
   "source": [
    "### Assignment 4: Generator Expression\n",
    "\n",
    "Create a generator expression that generates the squares of numbers from 1 to 10. Iterate over the generator and print each value."
   ]
  },
  {
   "cell_type": "code",
   "execution_count": 17,
   "metadata": {},
   "outputs": [
    {
     "name": "stdout",
     "output_type": "stream",
     "text": [
      "1\n",
      "4\n",
      "9\n",
      "16\n",
      "25\n",
      "36\n",
      "49\n",
      "64\n",
      "81\n",
      "100\n"
     ]
    }
   ],
   "source": [
    "squares=(x**2 for x in range(1,11,1))\n",
    "\n",
    "# Test\n",
    "for square in squares:\n",
    "    print(square)"
   ]
  },
  {
   "cell_type": "markdown",
   "metadata": {},
   "source": [
    "### Assignment 5: Chaining Generators\n",
    "\n",
    "Write two generator functions: `even_numbers` that yields even numbers up to a limit, and `squares` that yields the square of each number from another generator. Chain these generators to produce the squares of even numbers up to 20."
   ]
  },
  {
   "cell_type": "code",
   "execution_count": 19,
   "metadata": {},
   "outputs": [
    {
     "name": "stdout",
     "output_type": "stream",
     "text": [
      "4\n",
      "16\n",
      "36\n",
      "64\n",
      "100\n",
      "144\n",
      "196\n",
      "256\n",
      "324\n",
      "400\n"
     ]
    }
   ],
   "source": [
    "def even_numbers(number):\n",
    "    for i in range(1,number+1,1):\n",
    "        if i%2==0:\n",
    "            yield i\n",
    "\n",
    "def squares(even_gen):\n",
    "    for number in even_gen:\n",
    "        yield number**2\n",
    "\n",
    "# Test\n",
    "even_gen = even_numbers(20)\n",
    "square_gen = squares(even_gen)\n",
    "for square in square_gen:\n",
    "    print(square)"
   ]
  },
  {
   "cell_type": "markdown",
   "metadata": {},
   "source": [
    "### Assignment 6: Simple Decorator\n",
    "\n",
    "Write a decorator named `time_it` that measures the execution time of a function. Apply this decorator to a function that calculates the factorial of a number."
   ]
  },
  {
   "cell_type": "code",
   "execution_count": 25,
   "metadata": {},
   "outputs": [
    {
     "name": "stdout",
     "output_type": "stream",
     "text": [
      "Execution Time: 0.0010044574737548828 seconds\n",
      "402387260077093773543702433923003985719374864210714632543799910429938512398629020592044208486969404800479988610197196058631666872994808558901323829669944590997424504087073759918823627727188732519779505950995276120874975462497043601418278094646496291056393887437886487337119181045825783647849977012476632889835955735432513185323958463075557409114262417474349347553428646576611667797396668820291207379143853719588249808126867838374559731746136085379534524221586593201928090878297308431392844403281231558611036976801357304216168747609675871348312025478589320767169132448426236131412508780208000261683151027341827977704784635868170164365024153691398281264810213092761244896359928705114964975419909342221566832572080821333186116811553615836546984046708975602900950537616475847728421889679646244945160765353408198901385442487984959953319101723355556602139450399736280750137837615307127761926849034352625200015888535147331611702103968175921510907788019393178114194545257223865541461062892187960223838971476088506276862967146674697562911234082439208160153780889893964518263243671616762179168909779911903754031274622289988005195444414282012187361745992642956581746628302955570299024324153181617210465832036786906117260158783520751516284225540265170483304226143974286933061690897968482590125458327168226458066526769958652682272807075781391858178889652208164348344825993266043367660176999612831860788386150279465955131156552036093988180612138558600301435694527224206344631797460594682573103790084024432438465657245014402821885252470935190620929023136493273497565513958720559654228749774011413346962715422845862377387538230483865688976461927383814900140767310446640259899490222221765904339901886018566526485061799702356193897017860040811889729918311021171229845901641921068884387121855646124960798722908519296819372388642614839657382291123125024186649353143970137428531926649875337218940694281434118520158014123344828015051399694290153483077644569099073152433278288269864602789864321139083506217095002597389863554277196742822248757586765752344220207573630569498825087968928162753848863396909959826280956121450994871701244516461260379029309120889086942028510640182154399457156805941872748998094254742173582401063677404595741785160829230135358081840096996372524230560855903700624271243416909004153690105933983835777939410970027753472000000000000000000000000000000000000000000000000000000000000000000000000000000000000000000000000000000000000000000000000000000000000000000000000000000000000000000000000000000000000000000000000000000000000000000000000000000000000000000000000000000000\n"
     ]
    }
   ],
   "source": [
    "import time\n",
    "def time_it_decorator(function):\n",
    "    def wrapper(*args,**kwargs):\n",
    "        starttime=time.time()\n",
    "        output=function(*args,*kwargs)\n",
    "        endtime=time.time()\n",
    "        print(f\"Execution Time: {endtime-starttime} seconds\")\n",
    "        return output\n",
    "    return wrapper\n",
    "@time_it_decorator\n",
    "def factorial(number):\n",
    "    factorial=1\n",
    "    for i in range(number,0,-1):\n",
    "        factorial*=i\n",
    "    return factorial\n",
    "\n",
    "# Test\n",
    "print(factorial(1000))"
   ]
  },
  {
   "cell_type": "markdown",
   "metadata": {},
   "source": [
    "### Assignment 7: Decorator with Arguments\n",
    "\n",
    "Write a decorator named `repeat` that takes an argument `n` and repeats the execution of the decorated function `n` times. Apply this decorator to a function that prints a message."
   ]
  },
  {
   "cell_type": "code",
   "execution_count": 29,
   "metadata": {},
   "outputs": [
    {
     "name": "stdout",
     "output_type": "stream",
     "text": [
      "Wrapper Working\n",
      "Hello, World!\n",
      "Hello, World!\n",
      "Hello, World!\n"
     ]
    }
   ],
   "source": [
    "def repeat(n):\n",
    "    def repeat_decorator(function):\n",
    "        def wrapper(*args,**kwargs):\n",
    "            print(\"Wrapper Working\")\n",
    "            for i in range(n):\n",
    "                function(*args,**kwargs)\n",
    "        return wrapper\n",
    "    return repeat_decorator\n",
    "\n",
    "@repeat(3)\n",
    "def print_message(message):\n",
    "    print(message)\n",
    "\n",
    "# Test\n",
    "print_message(\"Hello, World!\")"
   ]
  },
  {
   "cell_type": "markdown",
   "metadata": {},
   "source": [
    "### Assignment 8: Nested Decorators\n",
    "\n",
    "Write two decorators: `uppercase` that converts the result of a function to uppercase, and `exclaim` that adds an exclamation mark to the result of a function. Apply both decorators to a function that returns a greeting message."
   ]
  },
  {
   "cell_type": "code",
   "execution_count": 30,
   "metadata": {},
   "outputs": [
    {
     "name": "stdout",
     "output_type": "stream",
     "text": [
      "HELLO ALICE!\n"
     ]
    }
   ],
   "source": [
    "def uppercase_decorator(function):\n",
    "    def wrapper(*args,**kwargs):\n",
    "        result=function(*args,**kwargs)\n",
    "        return result.upper()\n",
    "    return wrapper\n",
    "def exclamation_decorator(function):\n",
    "    def wrapper1(*args,**kwargs):\n",
    "        result=function(*args,**kwargs)\n",
    "        return result+'!'\n",
    "    return wrapper1\n",
    "\n",
    "@uppercase_decorator\n",
    "@exclamation_decorator\n",
    "def greet(name):\n",
    "    return f\"Hello {name}\"\n",
    "\n",
    "# Test\n",
    "print(greet(\"Alice\"))"
   ]
  },
  {
   "cell_type": "markdown",
   "metadata": {},
   "source": [
    "### Assignment 9: Class Decorator\n",
    "\n",
    "Create a class decorator named `singleton` that ensures a class has only one instance. Apply this decorator to a class named `DatabaseConnection` and test it."
   ]
  },
  {
   "cell_type": "code",
   "execution_count": 35,
   "metadata": {},
   "outputs": [
    {
     "name": "stdout",
     "output_type": "stream",
     "text": [
      "Database Connection Created\n",
      "True\n"
     ]
    }
   ],
   "source": [
    "def singleton_decorator(cls):\n",
    "    instances={}\n",
    "    def get_instance(*args,**kwargs):\n",
    "        if cls not in instances:\n",
    "            instances[cls]=cls(*args,**kwargs)\n",
    "        return instances[cls]\n",
    "    return get_instance\n",
    "\n",
    "@singleton_decorator\n",
    "class DatabaseConnection:\n",
    "    def __init__(self):\n",
    "        print(\"Database Connection Created\")\n",
    "\n",
    "# Test\n",
    "db1 = DatabaseConnection()\n",
    "db2 = DatabaseConnection()\n",
    "print(db1 is db2)  # True"
   ]
  },
  {
   "cell_type": "markdown",
   "metadata": {},
   "source": [
    "### Assignment 10: Iterator Protocol with Decorators\n",
    "\n",
    "Create a custom iterator class named `ReverseString` that iterates over a string in reverse. Write a decorator named `uppercase` that converts the string to uppercase before reversing it. Apply the decorator to the `ReverseString` class."
   ]
  },
  {
   "cell_type": "code",
   "execution_count": 37,
   "metadata": {},
   "outputs": [
    {
     "name": "stdout",
     "output_type": "stream",
     "text": [
      "o\n",
      "l\n",
      "l\n",
      "e\n",
      "h\n",
      "Index out of range\n"
     ]
    }
   ],
   "source": [
    "def uppercase_decorator(cls):\n",
    "    class uppercase(ReverseString):\n",
    "        def __init__(self,*args,**kwargs):\n",
    "            super.__init__(*args,**kwargs)\n",
    "            self.data=self.data.upper()\n",
    "    return uppercase\n",
    "\n",
    "\n",
    "class ReverseString:\n",
    "    def __init__(self,data):\n",
    "        self.data=data\n",
    "        self.index=len(data)\n",
    "    def __iter__(self):\n",
    "        return self\n",
    "    def __next__(self):\n",
    "        if self.index<=0:\n",
    "            raise StopIteration\n",
    "        else:\n",
    "            self.index-=1\n",
    "            return self.data[self.index]\n",
    "\n",
    "# Test\n",
    "try:\n",
    "    for char in ReverseString(\"hello\"):\n",
    "        print(char)\n",
    "except StopIteration:\n",
    "    print(\"Index out of range\")"
   ]
  },
  {
   "cell_type": "markdown",
   "metadata": {},
   "source": [
    "### Assignment 11: Stateful Generators\n",
    "\n",
    "Write a stateful generator function named `counter` that takes a start value and increments it by 1 each time it is called. Test the generator by iterating over it and printing the first 10 values."
   ]
  },
  {
   "cell_type": "code",
   "execution_count": 38,
   "metadata": {},
   "outputs": [
    {
     "name": "stdout",
     "output_type": "stream",
     "text": [
      "0\n",
      "1\n",
      "2\n",
      "3\n",
      "4\n",
      "5\n",
      "6\n",
      "7\n",
      "8\n",
      "9\n"
     ]
    }
   ],
   "source": [
    "def counter(start):\n",
    "    while True:\n",
    "        yield start\n",
    "        start+=1\n",
    "\n",
    "# Test\n",
    "count = counter(0)\n",
    "for _ in range(10):\n",
    "    print(next(count))"
   ]
  },
  {
   "cell_type": "markdown",
   "metadata": {},
   "source": [
    "### Assignment 12: Generator with Exception Handling\n",
    "\n",
    "Write a generator function named `safe_divide` that takes a list of numbers and yields the division of each number by a given divisor. Implement exception handling within the generator to handle division by zero."
   ]
  },
  {
   "cell_type": "code",
   "execution_count": 41,
   "metadata": {},
   "outputs": [
    {
     "name": "stdout",
     "output_type": "stream",
     "text": [
      "division by zero\n",
      "division by zero\n",
      "division by zero\n",
      "division by zero\n"
     ]
    }
   ],
   "source": [
    "def safe_divide(numbers,divisor):\n",
    "    for number in numbers:\n",
    "        try:\n",
    "            yield number/divisor\n",
    "        except ZeroDivisionError as err:\n",
    "            yield err\n",
    "\n",
    "# Test\n",
    "numbers = [10, 20, 30, 40]\n",
    "for result in safe_divide(numbers, 0):\n",
    "    print(result)"
   ]
  },
  {
   "cell_type": "markdown",
   "metadata": {},
   "source": [
    "### Assignment 13: Context Manager Decorator\n",
    "\n",
    "Write a decorator named `open_file` that manages the opening and closing of a file. Apply this decorator to a function that writes some text to a file."
   ]
  },
  {
   "cell_type": "code",
   "execution_count": 44,
   "metadata": {},
   "outputs": [],
   "source": [
    "def filehandle(filename,mode):\n",
    "    def open_file_decorator(function):\n",
    "        def wrapper(*args,**kwargs):\n",
    "            with open(filename,mode) as file:\n",
    "                function(file,*args,**kwargs)\n",
    "        return wrapper\n",
    "    return open_file_decorator\n",
    "\n",
    "@filehandle(\"newfile.txt\",'w')\n",
    "def write_to_file(file,string):\n",
    "    file.write(string)\n",
    "            \n",
    "# Test\n",
    "write_to_file('Hello, World!')"
   ]
  },
  {
   "cell_type": "markdown",
   "metadata": {},
   "source": [
    "### Assignment 14: Infinite Iterator\n",
    "\n",
    "Create an infinite iterator class named `InfiniteCounter` that starts from a given number and increments by 1 indefinitely. Test the iterator by printing the first 10 values generated by it."
   ]
  },
  {
   "cell_type": "code",
   "execution_count": 47,
   "metadata": {},
   "outputs": [
    {
     "name": "stdout",
     "output_type": "stream",
     "text": [
      "1\n",
      "2\n",
      "3\n",
      "4\n",
      "5\n",
      "6\n",
      "7\n",
      "8\n",
      "9\n",
      "10\n"
     ]
    }
   ],
   "source": [
    "class InfiniteCounter:\n",
    "    def __init__(self,start):\n",
    "        self.number=start\n",
    "    def __iter__(self):\n",
    "        return self\n",
    "    def __next__(self):\n",
    "        self.number+=1\n",
    "        return self.number\n",
    "\n",
    "\n",
    "# Test\n",
    "counter = InfiniteCounter(0)\n",
    "for _ in range(10):\n",
    "    print(next(counter))"
   ]
  },
  {
   "cell_type": "markdown",
   "metadata": {},
   "source": [
    "### Assignment 15: Generator Pipeline\n",
    "\n",
    "Write three generator functions: `integers` that yields integers from 1 to 10, `doubles` that yields each integer doubled, and `negatives` that yields the negative of each doubled value. Chain these generators to create a pipeline that produces the negative doubled values of integers from 1 to 10."
   ]
  },
  {
   "cell_type": "code",
   "execution_count": null,
   "metadata": {},
   "outputs": [
    {
     "name": "stdout",
     "output_type": "stream",
     "text": [
      "-1\n",
      "-4\n",
      "-9\n",
      "-16\n",
      "-25\n",
      "-36\n",
      "-49\n",
      "-64\n",
      "-81\n",
      "-100\n"
     ]
    }
   ],
   "source": [
    "def integers():\n",
    "    for i in range(1,11,1):\n",
    "        yield i\n",
    "def doubles(int_gen):\n",
    "    for number in int_gen:\n",
    "        yield number**2\n",
    "def negatives(double_gen):\n",
    "    for number in double_gen:\n",
    "        yield -number\n",
    "# Test\n",
    "int_gen = integers()\n",
    "double_gen = doubles(int_gen)\n",
    "negative_gen = negatives(double_gen)\n",
    "for value in negative_gen:\n",
    "    print(value)"
   ]
  },
  {
   "cell_type": "code",
   "execution_count": null,
   "id": "cbcf8c24",
   "metadata": {},
   "outputs": [],
   "source": []
  }
 ],
 "metadata": {
  "kernelspec": {
   "display_name": "Python 3",
   "language": "python",
   "name": "python3"
  },
  "language_info": {
   "codemirror_mode": {
    "name": "ipython",
    "version": 3
   },
   "file_extension": ".py",
   "mimetype": "text/x-python",
   "name": "python",
   "nbconvert_exporter": "python",
   "pygments_lexer": "ipython3",
   "version": "3.12.9"
  }
 },
 "nbformat": 4,
 "nbformat_minor": 5
}
