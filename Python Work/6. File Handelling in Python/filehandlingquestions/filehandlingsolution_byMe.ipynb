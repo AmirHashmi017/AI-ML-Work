{
 "cells": [
  {
   "cell_type": "markdown",
   "metadata": {},
   "source": [
    "# Module: File Handling Assignments\n",
    "## Lesson: File Handling and Operations\n",
    "### Assignment 1: Reading a File\n",
    "\n",
    "Write a function that reads the contents of a file named `sample.txt` and prints each line."
   ]
  },
  {
   "cell_type": "code",
   "execution_count": 6,
   "metadata": {},
   "outputs": [
    {
     "name": "stdout",
     "output_type": "stream",
     "text": [
      "Hello World!\n",
      "Hi I'm Amir Hashmi\n",
      "I am AI/ML Enthusiast\n",
      "Currently Learning Python\n"
     ]
    }
   ],
   "source": [
    "def read_file(filename):\n",
    "    with open(filename,'r') as file:\n",
    "        for line in file:\n",
    "            print(line.strip())\n",
    "\n",
    "# Test\n",
    "read_file('sample.txt')"
   ]
  },
  {
   "cell_type": "markdown",
   "metadata": {},
   "source": [
    "### Assignment 2: Writing to a File\n",
    "\n",
    "Write a function that writes a list of strings to a file named `output.txt`, with each string on a new line."
   ]
  },
  {
   "cell_type": "code",
   "execution_count": 5,
   "metadata": {},
   "outputs": [],
   "source": [
    "def write_file(lst,filename):\n",
    "    with open(filename,'w') as file:\n",
    "        for line in lst:\n",
    "            file.write(f\"{line}\\n\")\n",
    "# Test\n",
    "write_file(['Hello', 'World'], 'output.txt')"
   ]
  },
  {
   "cell_type": "markdown",
   "metadata": {},
   "source": [
    "### Assignment 3: Copying a File\n",
    "\n",
    "Write a function that copies the contents of a file named `source.txt` to a new file named `destination.txt`."
   ]
  },
  {
   "cell_type": "code",
   "execution_count": 7,
   "metadata": {},
   "outputs": [],
   "source": [
    "def copy_file(source,dest):\n",
    "    with open(source,'r') as sourcefile:\n",
    "        with open(dest,'w') as destfile:\n",
    "            destfile.write(sourcefile.read())\n",
    "\n",
    "\n",
    "# Test\n",
    "copy_file('source.txt', 'destination.txt')"
   ]
  },
  {
   "cell_type": "markdown",
   "metadata": {},
   "source": [
    "### Assignment 4: Appending to a File\n",
    "\n",
    "Write a function that appends a given string to the end of a file named `log.txt`."
   ]
  },
  {
   "cell_type": "code",
   "execution_count": 8,
   "metadata": {},
   "outputs": [],
   "source": [
    "def append_to_file(string,filename):\n",
    "    with open(filename,'a') as file:\n",
    "        file.write(string)\n",
    "\n",
    "# Test\n",
    "append_to_file('This is a new log entry.', 'sample.txt')"
   ]
  },
  {
   "cell_type": "markdown",
   "metadata": {},
   "source": [
    "### Assignment 5: Counting Words in a File\n",
    "\n",
    "Write a function that reads the contents of a file named `document.txt` and returns the number of words in the file."
   ]
  },
  {
   "cell_type": "code",
   "execution_count": 9,
   "metadata": {},
   "outputs": [
    {
     "name": "stdout",
     "output_type": "stream",
     "text": [
      "18\n"
     ]
    }
   ],
   "source": [
    "def count_words(filename):\n",
    "    with open(filename,'r') as file:\n",
    "        lines=file.readlines()\n",
    "        wordscount=sum(len(line.split()) for line in lines)\n",
    "        return wordscount\n",
    "\n",
    "# Test\n",
    "print(count_words('sample.txt'))"
   ]
  },
  {
   "cell_type": "markdown",
   "metadata": {},
   "source": [
    "### Assignment 6: Finding and Replacing Text\n",
    "\n",
    "Write a function that finds and replaces all occurrences of a given word in a file named `data.txt` with another word."
   ]
  },
  {
   "cell_type": "code",
   "execution_count": 12,
   "metadata": {},
   "outputs": [],
   "source": [
    "def find_and_replace(filename,oldword,newword):\n",
    "    with open(filename,'r') as file:\n",
    "        content=file.read()\n",
    "        newcontent=content.replace(oldword,newword)\n",
    "    with open(filename,'w') as file:\n",
    "        file.write(newcontent)\n",
    "\n",
    "# Test\n",
    "find_and_replace('sample.txt', '.', '-')"
   ]
  },
  {
   "cell_type": "markdown",
   "metadata": {},
   "source": [
    "### Assignment 7: Reading a File in Reverse\n",
    "\n",
    "Write a function that reads the contents of a file named `reverse.txt` and prints each line in reverse order."
   ]
  },
  {
   "cell_type": "code",
   "execution_count": 14,
   "metadata": {},
   "outputs": [
    {
     "name": "stdout",
     "output_type": "stream",
     "text": [
      "Currently Learning PythonThis is a new log entry-\n",
      "I am AI/ML Enthusiast-\n",
      "Hi I'm Amir Hashmi-\n",
      "Hello World!\n"
     ]
    }
   ],
   "source": [
    "def read_reverse(filename):\n",
    "    with open(filename,'r') as file:\n",
    "        lines=file.readlines()\n",
    "        for line in reversed(lines):\n",
    "            print(line.strip())\n",
    "# Test\n",
    "read_reverse('sample.txt')"
   ]
  },
  {
   "cell_type": "markdown",
   "metadata": {},
   "source": [
    "### Assignment 8: Counting Lines, Words, and Characters\n",
    "\n",
    "Write a function that reads the contents of a file named `stats.txt` and returns the number of lines, words, and characters in the file."
   ]
  },
  {
   "cell_type": "code",
   "execution_count": 15,
   "metadata": {},
   "outputs": [
    {
     "name": "stdout",
     "output_type": "stream",
     "text": [
      "(4, 18, 105)\n"
     ]
    }
   ],
   "source": [
    "def count_lwc(filename):\n",
    "    with open(filename,'r') as file:\n",
    "        lines=file.readlines()\n",
    "        linecount=len(lines)\n",
    "        wordcount=sum(len(line.split()) for line in lines)\n",
    "        charachtercount=sum(len(line) for line in lines)\n",
    "        return linecount,wordcount,charachtercount\n",
    "\n",
    "# Test\n",
    "print(count_lwc('sample.txt'))"
   ]
  },
  {
   "cell_type": "markdown",
   "metadata": {},
   "source": [
    "### Assignment 9: Merging Multiple Files\n",
    "\n",
    "Write a function that merges the contents of multiple files into a single file named `merged.txt`."
   ]
  },
  {
   "cell_type": "code",
   "execution_count": 16,
   "metadata": {},
   "outputs": [],
   "source": [
    "def merge_files(fileslist,mergedfile):\n",
    "    with open(mergedfile,'a') as merged:\n",
    "        for filename in fileslist:\n",
    "            with open(filename,'r') as file:\n",
    "                merged.write(file.read())\n",
    "\n",
    "# Test\n",
    "merge_files(['sample.txt', 'source.txt'], 'merged.txt')"
   ]
  },
  {
   "cell_type": "markdown",
   "metadata": {},
   "source": [
    "### Assignment 10: Splitting a Large File\n",
    "\n",
    "Write a function that splits a large file named `large.txt` into smaller files of 100 lines each."
   ]
  },
  {
   "cell_type": "code",
   "execution_count": 20,
   "metadata": {},
   "outputs": [],
   "source": [
    "def split_file(largefile,linesallowed):\n",
    "    with open(largefile,'r') as largefile:\n",
    "        lines=largefile.readlines()\n",
    "    for i in range(0,len(lines),linesallowed):\n",
    "        with open(f\"file{i}.txt\",'a') as file:\n",
    "            file.writelines(lines[i:i+linesallowed])\n",
    "\n",
    "        \n",
    "\n",
    "# Test\n",
    "split_file('sample.txt', 3)"
   ]
  },
  {
   "cell_type": "markdown",
   "metadata": {},
   "source": [
    "### Assignment 11: Creating a Log File\n",
    "\n",
    "Write a function that creates a log file named `activity.log` and writes log messages with timestamps."
   ]
  },
  {
   "cell_type": "code",
   "execution_count": 21,
   "metadata": {},
   "outputs": [],
   "source": [
    "import datetime\n",
    "with open(\"log.txt\",'w') as file:\n",
    "    currenttime=datetime.datetime.now().isoformat()\n",
    "    logmessage=\"This is a log message\"\n",
    "    file.write(f\"{currenttime}: {logmessage}\")\n",
    "# Test\n",
    "# log_message('This is a log message.')"
   ]
  },
  {
   "cell_type": "markdown",
   "metadata": {},
   "source": [
    "### Assignment 12: Binary File Operations\n",
    "\n",
    "Write a function that reads a binary file named `image.bin` and writes its contents to another binary file named `copy_image.bin`."
   ]
  },
  {
   "cell_type": "code",
   "execution_count": 22,
   "metadata": {},
   "outputs": [],
   "source": [
    "def copy_binary_file(sourcef,destf):\n",
    "    with open(sourcef,'rb') as source:\n",
    "        with open(destf,'wb') as destf:\n",
    "            destf.write(source.read())\n",
    "\n",
    "# Test\n",
    "copy_binary_file('image.bin', 'copy_image.bin')"
   ]
  },
  {
   "cell_type": "markdown",
   "metadata": {},
   "source": [
    "### Assignment 13: CSV File Operations\n",
    "\n",
    "Write a function that reads a CSV file named `data.csv` and prints its contents as a list of dictionaries."
   ]
  },
  {
   "cell_type": "code",
   "execution_count": 23,
   "metadata": {},
   "outputs": [
    {
     "name": "stdout",
     "output_type": "stream",
     "text": [
      "[{'Name': 'Amir Hashmi', 'Father Name': 'Shahid Hashmi', 'Age': '18', 'Working place': 'UET', 'earnings': '3.801'}, {'Name': 'Ashir Hashmi', 'Father Name': 'Shahid Hashmi', 'Age': '15', 'Working place': 'Matric', 'earnings': '80%'}, {'Name': 'ALi Raza', 'Father Name': 'Tariq Mehmood', 'Age': '22', 'Working place': 'Medical Billing', 'earnings': '10000'}]\n"
     ]
    }
   ],
   "source": [
    "import csv\n",
    "def read_csv_as_dicts(csvname):\n",
    "    with open(csvname,'r') as file:\n",
    "        dictionary=csv.DictReader(file)\n",
    "        return list(dictionary)\n",
    "\n",
    "# Test\n",
    "print(read_csv_as_dicts('data.csv'))"
   ]
  },
  {
   "cell_type": "markdown",
   "metadata": {},
   "source": [
    "### Assignment 14: JSON File Operations\n",
    "\n",
    "Write a function that reads a JSON file named `data.json` and prints its contents as a Python dictionary."
   ]
  },
  {
   "cell_type": "code",
   "execution_count": 24,
   "metadata": {},
   "outputs": [
    {
     "name": "stdout",
     "output_type": "stream",
     "text": [
      "{'users': [{'id': 1, 'name': 'Amir Hashmi', 'email': 'amir@example.com', 'is_active': True}, {'id': 2, 'name': 'Hadi Hassan', 'email': 'hadi@example.com', 'is_active': False}]}\n"
     ]
    }
   ],
   "source": [
    "import json\n",
    "def read_json(filename):\n",
    "    with open(filename,'r') as file:\n",
    "        dictionary=json.loads(file.read())\n",
    "        return dictionary\n",
    "\n",
    "# Test\n",
    "print(read_json('data.json'))"
   ]
  },
  {
   "cell_type": "markdown",
   "metadata": {},
   "source": [
    "### Assignment 15: File Permission Handling\n",
    "\n",
    "Write a function that attempts to read a file named `protected.txt` and handles any permission errors gracefully by printing an error message."
   ]
  },
  {
   "cell_type": "code",
   "execution_count": null,
   "metadata": {},
   "outputs": [],
   "source": [
    "def read_protected_file(filename):\n",
    "    try:\n",
    "        with open(filename,'r') as file:\n",
    "            content=file.read()\n",
    "            return content\n",
    "    except PermissionError as err:\n",
    "        print(err)\n",
    "\n",
    "# Test\n",
    "# read_protected_file('protected.txt')"
   ]
  }
 ],
 "metadata": {
  "kernelspec": {
   "display_name": "Python 3",
   "language": "python",
   "name": "python3"
  },
  "language_info": {
   "codemirror_mode": {
    "name": "ipython",
    "version": 3
   },
   "file_extension": ".py",
   "mimetype": "text/x-python",
   "name": "python",
   "nbconvert_exporter": "python",
   "pygments_lexer": "ipython3",
   "version": "3.12.9"
  }
 },
 "nbformat": 4,
 "nbformat_minor": 5
}
