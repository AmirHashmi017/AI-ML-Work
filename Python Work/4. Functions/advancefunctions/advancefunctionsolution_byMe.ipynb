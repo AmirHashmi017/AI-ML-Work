{
 "cells": [
  {
   "cell_type": "markdown",
   "metadata": {},
   "source": [
    "# Module 4: Advanced Functions Assignments\n",
    "## Lesson 4.1: Defining Functions\n",
    "### Assignment 1: Fibonacci Sequence with Memoization\n",
    "\n",
    "Define a recursive function to calculate the nth Fibonacci number using memoization. Test the function with different inputs."
   ]
  },
  {
   "cell_type": "code",
   "execution_count": 5,
   "id": "c913066e",
   "metadata": {},
   "outputs": [
    {
     "name": "stdout",
     "output_type": "stream",
     "text": [
      "55\n"
     ]
    }
   ],
   "source": [
    "def calculateFibonacci(n,memo={}):\n",
    "    if(n in memo):\n",
    "        return memo[n]\n",
    "    elif(n<=1):\n",
    "        memo[n]=n\n",
    "        return n\n",
    "    else:\n",
    "        memo[n]=calculateFibonacci(n-1,memo)+calculateFibonacci(n-2,memo)\n",
    "        return memo[n]\n",
    "\n",
    "print(calculateFibonacci(10))"
   ]
  },
  {
   "cell_type": "markdown",
   "id": "93322e71",
   "metadata": {},
   "source": [
    "### Assignment 2: Function with Nested Default Arguments\n",
    "\n",
    "Define a function that takes two arguments, a and b, where b is a dictionary with a default value of an empty dictionary. The function should add a new key-value pair to the dictionary and return it. Test the function with different inputs."
   ]
  },
  {
   "cell_type": "code",
   "execution_count": 6,
   "id": "75d45b94",
   "metadata": {},
   "outputs": [
    {
     "name": "stdout",
     "output_type": "stream",
     "text": [
      "{2: 4}\n",
      "{1: 1, 3: 9}\n"
     ]
    }
   ],
   "source": [
    "def add_to_dict(a,b={}):\n",
    "    b[a]=a**2\n",
    "    return b\n",
    "\n",
    "print(add_to_dict(2))\n",
    "print(add_to_dict(3, {1: 1})) \n"
   ]
  },
  {
   "cell_type": "markdown",
   "id": "1296881c",
   "metadata": {},
   "source": [
    "### Assignment 3: Function with Variable Keyword Arguments\n",
    "\n",
    "Define a function that takes a variable number of keyword arguments and returns a dictionary containing only those key-value pairs where the value is an integer. Test the function with different inputs."
   ]
  },
  {
   "cell_type": "code",
   "execution_count": 8,
   "id": "9359dd4f",
   "metadata": {},
   "outputs": [
    {
     "name": "stdout",
     "output_type": "stream",
     "text": [
      "{'a': 1, 'c': 3}\n",
      "{'x': 10, 'z': 20}\n"
     ]
    }
   ],
   "source": [
    "def populatedictionaty(**kwargs):\n",
    "    dictionary={k:v for k,v in kwargs.items() if type(v)==int}\n",
    "    return dictionary\n",
    "    \n",
    "\n",
    "print(populatedictionaty(a=1, b='two', c=3, d=4.5)) \n",
    "print(populatedictionaty(x=10, y='yes', z=20))"
   ]
  },
  {
   "cell_type": "markdown",
   "id": "f1489b6d",
   "metadata": {},
   "source": [
    "### Assignment 4: Function with Callback\n",
    "\n",
    "Define a function that takes another function as a callback and a list of integers. The function should apply the callback to each integer in the list and return a new list with the results. Test with different callback functions."
   ]
  },
  {
   "cell_type": "code",
   "execution_count": 9,
   "id": "33ae428c",
   "metadata": {},
   "outputs": [
    {
     "name": "stdout",
     "output_type": "stream",
     "text": [
      "[1, 4, 9, 16, 25]\n",
      "[1, 8, 27, 64, 125]\n"
     ]
    }
   ],
   "source": [
    "def ApplyCallBack(callback,lst):\n",
    "    return [callback(x) for x in lst]\n",
    "\n",
    "print(ApplyCallBack(lambda x:x**2,[1,2,3,4,5]))\n",
    "print(ApplyCallBack(lambda x:x**3,[1,2,3,4,5]))"
   ]
  },
  {
   "cell_type": "markdown",
   "id": "cf09c435",
   "metadata": {},
   "source": [
    "### Assignment 5: Function that Returns a Function\n",
    "\n",
    "Define a function that returns another function. The returned function should take an integer and return its square. Test the returned function with different inputs."
   ]
  },
  {
   "cell_type": "code",
   "execution_count": 12,
   "id": "c0191c6f",
   "metadata": {},
   "outputs": [
    {
     "name": "stdout",
     "output_type": "stream",
     "text": [
      "16\n",
      "36\n"
     ]
    }
   ],
   "source": [
    "# def ReturnFunction():\n",
    "#     return lambda x:x**2\n",
    "#Other Method\n",
    "def ReturnFunction():\n",
    "    def innerfunction(x):\n",
    "        return x**2\n",
    "    return innerfunction\n",
    "\n",
    "returnedfunction=ReturnFunction()\n",
    "print(returnedfunction(4))\n",
    "print(returnedfunction(6))"
   ]
  },
  {
   "cell_type": "markdown",
   "id": "eb2a3307",
   "metadata": {},
   "source": [
    "### Assignment 6: Function with Decorators\n",
    "\n",
    "Define a function that calculates the time taken to execute another function. Apply this decorator to a function that performs a complex calculation. Test the decorated function with different inputs."
   ]
  },
  {
   "cell_type": "code",
   "execution_count": null,
   "id": "5397c17d",
   "metadata": {},
   "outputs": [
    {
     "name": "stdout",
     "output_type": "stream",
     "text": [
      "Execution Time of function is: 0.0019996166229248047 seconds\n",
      "result: 333283335000\n"
     ]
    }
   ],
   "source": [
    "\"\"\"A decorator is a function that wraps another function, adding extra behavior (like timing) without \n",
    "   modifying the original function’s code. \"\"\"\n",
    "import time\n",
    "def decorator(funct):\n",
    "    def wrapper(*args,**kwargs):\n",
    "        start_time=time.time()\n",
    "        result=funct(*args,**kwargs)\n",
    "        end_time=time.time()\n",
    "        print(f\"Execution Time of function is: {end_time-start_time} seconds\")\n",
    "        return result\n",
    "    return wrapper\n",
    "\n",
    "@decorator\n",
    "def ComplexCalculation(n):\n",
    "    return sum(i**2 for i in range(n))\n",
    "\n",
    "# Another methos to apply decorator on function\n",
    "# def ComplexCalculation(n):\n",
    "#     return sum(i**2 for i in range(n))\n",
    "# ComplexCalculation=decorator(ComplexCalculation)\n",
    "\n",
    "print(f\"result: {ComplexCalculation(10000)}\")\n"
   ]
  },
  {
   "cell_type": "markdown",
   "id": "7e7c76e9",
   "metadata": {},
   "source": [
    "### Assignment 7: Higher-Order Function for Filtering and Mapping\n",
    "\n",
    "Define a higher-order function that takes two functions, a filter function and a map function, along with a list of integers. The higher-order function should first filter the integers using the filter function and then apply the map function to the filtered integers. Test with different filter and map functions."
   ]
  },
  {
   "cell_type": "code",
   "execution_count": 25,
   "id": "a71b31fd",
   "metadata": {},
   "outputs": [
    {
     "name": "stdout",
     "output_type": "stream",
     "text": [
      "[4, 16, 36, 64, 100]\n"
     ]
    }
   ],
   "source": [
    "def HigherOrderFunction(filterfunc,mapfunc,lst):\n",
    "    return [mapfunc(x) for x in lst if filterfunc(x)]\n",
    "\n",
    "print(HigherOrderFunction(lambda x:x%2==0, lambda y:y**2,[1,2,3,4,5,6,7,8,9,10]))"
   ]
  },
  {
   "cell_type": "markdown",
   "id": "0be9667f",
   "metadata": {},
   "source": [
    "### Assignment 8: Function Composition\n",
    "\n",
    "Define a function that composes two functions, f and g, such that the result is f(g(x)). Test with different functions f and g."
   ]
  },
  {
   "cell_type": "code",
   "execution_count": 27,
   "id": "ef772808",
   "metadata": {},
   "outputs": [
    {
     "name": "stdout",
     "output_type": "stream",
     "text": [
      "7\n"
     ]
    }
   ],
   "source": [
    "def Compose(f,g):\n",
    "    return lambda x:f(g(x))\n",
    "\n",
    "f=lambda x:x+1\n",
    "g=lambda x:x*2\n",
    "h=Compose(f,g)\n",
    "print(h(3))"
   ]
  },
  {
   "cell_type": "markdown",
   "id": "8a8cac47",
   "metadata": {},
   "source": [
    "### Assignment 9: Partial Function Application\n",
    "\n",
    "Use the functools.partial function to create a new function that multiplies its input by 2. Test the new function with different inputs."
   ]
  },
  {
   "cell_type": "code",
   "execution_count": null,
   "id": "d57607be",
   "metadata": {},
   "outputs": [
    {
     "data": {
      "text/plain": [
       "4"
      ]
     },
     "execution_count": 29,
     "metadata": {},
     "output_type": "execute_result"
    }
   ],
   "source": [
    "from functools import partial\n",
    "multiply_by_2=partial(lambda x,y:x*y,2)\n",
    "\n",
    "print(multiply_by_2(2))"
   ]
  },
  {
   "cell_type": "markdown",
   "id": "c3066006",
   "metadata": {},
   "source": [
    "### Assignment 10: Function with Error Handling\n",
    "\n",
    "Define a function that takes a list of integers and returns their average. The function should handle any errors that occur (e.g., empty list) and return None in such cases. Test with different inputs."
   ]
  },
  {
   "cell_type": "code",
   "execution_count": 30,
   "id": "612d123f",
   "metadata": {},
   "outputs": [
    {
     "name": "stdout",
     "output_type": "stream",
     "text": [
      "3.0\n",
      "None\n"
     ]
    }
   ],
   "source": [
    "def CalculateAverage(lst):\n",
    "    try:\n",
    "        average=sum(lst)/len(lst)\n",
    "        return average\n",
    "    except:\n",
    "        return None\n",
    "\n",
    "print(CalculateAverage([1, 2, 3, 4, 5]))  \n",
    "print(CalculateAverage([])) "
   ]
  },
  {
   "cell_type": "markdown",
   "id": "608de47d",
   "metadata": {},
   "source": [
    "### Assignment 11: Function with Generators\n",
    "\n",
    "Define a function that generates an infinite sequence of Fibonacci numbers. Test by printing the first 10 numbers in the sequence."
   ]
  },
  {
   "cell_type": "code",
   "execution_count": 31,
   "id": "3351b977",
   "metadata": {},
   "outputs": [
    {
     "name": "stdout",
     "output_type": "stream",
     "text": [
      "0\n",
      "1\n",
      "1\n",
      "2\n",
      "3\n",
      "5\n",
      "8\n",
      "13\n",
      "21\n",
      "34\n"
     ]
    }
   ],
   "source": [
    "def FibonacciGenerator():\n",
    "    a=0\n",
    "    b=1\n",
    "    while True:\n",
    "        yield a\n",
    "        a,b=b,a+b\n",
    "\n",
    "fib_gen=FibonacciGenerator()\n",
    "for i in range(10):\n",
    "    print(next(fib_gen))"
   ]
  },
  {
   "cell_type": "markdown",
   "id": "b2f66794",
   "metadata": {},
   "source": [
    "### Assignment 12: Currying\n",
    "\n",
    "Define a curried function that takes three arguments, one at a time, and returns their product. Test the function by providing arguments one at a time."
   ]
  },
  {
   "cell_type": "code",
   "execution_count": 32,
   "id": "9168b8e2",
   "metadata": {},
   "outputs": [
    {
     "name": "stdout",
     "output_type": "stream",
     "text": [
      "6\n"
     ]
    }
   ],
   "source": [
    "def func1(x):\n",
    "    def func2(y):\n",
    "        def func3(z):\n",
    "            return x*y*z\n",
    "        return func3\n",
    "    return func2\n",
    "\n",
    "print(func1(1)(2)(3))"
   ]
  },
  {
   "cell_type": "markdown",
   "id": "63807ebf",
   "metadata": {},
   "source": [
    "### Assignment 13: Function with Context Manager\n",
    "\n",
    "Define a function that uses a context manager to write a list of integers to a file. The function should handle any errors that occur during file operations. Test with different lists."
   ]
  },
  {
   "cell_type": "code",
   "execution_count": 33,
   "id": "94ff09c9",
   "metadata": {},
   "outputs": [],
   "source": [
    "def writelisttofile(lst,filename):\n",
    "    try:\n",
    "        with open(filename,'w') as f:\n",
    "            for x in lst:\n",
    "                f.write(f\"{x} \\n\")\n",
    "    except IOError as err:\n",
    "        print(f\"Error Occured {err}\")\n",
    "\n",
    "writelisttofile([1, 2, 3, 4, 5], 'output.txt')\n",
    "        "
   ]
  },
  {
   "cell_type": "markdown",
   "id": "d4c8c180",
   "metadata": {},
   "source": [
    "### Assignment 14: Function with Multiple Return Types\n",
    "\n",
    "Define a function that takes a list of mixed data types (integers, strings, and floats) and returns three lists: one containing all the integers, one containing all the strings, and one containing all the floats. Test with different inputs."
   ]
  },
  {
   "cell_type": "code",
   "execution_count": 35,
   "id": "4e93a494",
   "metadata": {},
   "outputs": [
    {
     "name": "stdout",
     "output_type": "stream",
     "text": [
      "([1, 3], [2.5, 4.0], ['a', 'b', 'c'])\n"
     ]
    }
   ],
   "source": [
    "def SeperateDataTypes(mixedlist):\n",
    "    int_list=[]\n",
    "    float_list=[]\n",
    "    str_list=[]\n",
    "    for x in mixedlist:\n",
    "        if type(x)==int:\n",
    "            int_list.append(x)\n",
    "        elif(isinstance(x,float)):\n",
    "            float_list.append(x)\n",
    "        else:\n",
    "            str_list.append(x) \n",
    "    return int_list,float_list,str_list\n",
    "\n",
    "print(SeperateDataTypes([1, 'a', 2.5, 3, 'b', 4.0, 'c']))"
   ]
  },
  {
   "cell_type": "markdown",
   "id": "6efa5b47",
   "metadata": {},
   "source": [
    "### Assignment 15: Function with State\n",
    "\n",
    "Define a function that maintains state between calls using a mutable default argument. The function should keep track of how many times it has been called. Test by calling the function multiple times."
   ]
  },
  {
   "cell_type": "code",
   "execution_count": 36,
   "id": "92d4d6d9",
   "metadata": {},
   "outputs": [
    {
     "name": "stdout",
     "output_type": "stream",
     "text": [
      "1\n",
      "2\n",
      "3\n"
     ]
    }
   ],
   "source": [
    "def call_counter(callcount={'count':0}):\n",
    "    callcount['count']+=1\n",
    "    return callcount['count']\n",
    "\n",
    "print(call_counter())  \n",
    "print(call_counter())  \n",
    "print(call_counter())  "
   ]
  },
  {
   "cell_type": "code",
   "execution_count": null,
   "id": "fb3dc70a",
   "metadata": {},
   "outputs": [],
   "source": []
  }
 ],
 "metadata": {
  "kernelspec": {
   "display_name": "Python 3",
   "language": "python",
   "name": "python3"
  },
  "language_info": {
   "codemirror_mode": {
    "name": "ipython",
    "version": 3
   },
   "file_extension": ".py",
   "mimetype": "text/x-python",
   "name": "python",
   "nbconvert_exporter": "python",
   "pygments_lexer": "ipython3",
   "version": "3.12.9"
  }
 },
 "nbformat": 4,
 "nbformat_minor": 5
}
