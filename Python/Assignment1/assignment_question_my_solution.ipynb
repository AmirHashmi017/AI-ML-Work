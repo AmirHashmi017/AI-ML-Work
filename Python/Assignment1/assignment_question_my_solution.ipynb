{
 "cells": [
  {
   "cell_type": "markdown",
   "metadata": {},
   "source": [
    "# Lesson 1.2: Python Basics\n",
    "## Topics Covered:\n",
    "- Syntax and Semantics\n",
    "- Variables and Data Types\n",
    "- Basic Operators (Arithmetic, Comparison, Logical)\n"
   ]
  },
  {
   "cell_type": "markdown",
   "metadata": {},
   "source": [
    "## 1. Syntax and Semantics\n",
    "\n",
    "**Question 1:** Write a Python program to print \"Hello, World!\"."
   ]
  },
  {
   "cell_type": "code",
   "execution_count": 29,
   "metadata": {},
   "outputs": [
    {
     "name": "stdout",
     "output_type": "stream",
     "text": [
      "Hello World\n"
     ]
    }
   ],
   "source": [
    "import math\n",
    "print(\"Hello World\")"
   ]
  },
  {
   "cell_type": "markdown",
   "metadata": {},
   "source": [
    "**Question 2:** Write a Python program that takes a user input and prints it."
   ]
  },
  {
   "cell_type": "code",
   "execution_count": 2,
   "metadata": {},
   "outputs": [
    {
     "name": "stdout",
     "output_type": "stream",
     "text": [
      "User Input:  amir\n"
     ]
    }
   ],
   "source": [
    "print(\"User Input: \",input(\"Enter your Input: \"))"
   ]
  },
  {
   "cell_type": "markdown",
   "metadata": {},
   "source": [
    "**Question 3:** Write a Python program to check if a number is positive, negative, or zero."
   ]
  },
  {
   "cell_type": "code",
   "execution_count": 6,
   "metadata": {},
   "outputs": [
    {
     "name": "stdout",
     "output_type": "stream",
     "text": [
      "Positive\n"
     ]
    }
   ],
   "source": [
    "number=int(input(\"Enter Number: \"))\n",
    "if number>0:\n",
    "    print(\"Positive\")\n",
    "elif number<0:\n",
    "    print(\"Negative\")\n",
    "else:\n",
    "    print(\"Zero\")"
   ]
  },
  {
   "cell_type": "markdown",
   "metadata": {},
   "source": [
    "**Question 4:** Write a Python program to find the largest of three numbers."
   ]
  },
  {
   "cell_type": "code",
   "execution_count": 26,
   "metadata": {},
   "outputs": [
    {
     "name": "stdout",
     "output_type": "stream",
     "text": [
      "Largest Number:  15\n",
      "Built-in Function for finding Largest Number:  15\n"
     ]
    }
   ],
   "source": [
    "num1=int(input(\"Enter Number 1: \"))\n",
    "num2=int(input(\"Enter Number 2: \"))\n",
    "num3=int(input(\"Enter Number 3: \"))\n",
    "if(num1>num2 and num1>num3):\n",
    "    largest=num1\n",
    "elif (num2>num1 and num2>num3):\n",
    "    largest=num2\n",
    "else:\n",
    "    largest=num3\n",
    "print(\"Largest Number: \",largest)\n",
    "\n",
    "print(\"Built-in Function for finding Largest Number: \",max(num1,num2,num3))\n",
    "    "
   ]
  },
  {
   "cell_type": "markdown",
   "metadata": {},
   "source": [
    "**Question 5:** Write a Python program to calculate the factorial of a number."
   ]
  },
  {
   "cell_type": "code",
   "execution_count": 8,
   "metadata": {},
   "outputs": [
    {
     "name": "stdout",
     "output_type": "stream",
     "text": [
      "120\n"
     ]
    }
   ],
   "source": [
    "number=int(input(\"Enter Number to calculate Factorial: \"))\n",
    "factorial=1\n",
    "for i in range(number,0,-1):\n",
    "    factorial*=i\n",
    "print(factorial)"
   ]
  },
  {
   "cell_type": "markdown",
   "metadata": {},
   "source": [
    "## 2. Variables and Data Types\n",
    "\n",
    "**Question 6:** Create variables of different data types: integer, float, string, and boolean. Print their values and types."
   ]
  },
  {
   "cell_type": "code",
   "execution_count": 9,
   "metadata": {},
   "outputs": [
    {
     "name": "stdout",
     "output_type": "stream",
     "text": [
      "<class 'int'>\n",
      "<class 'float'>\n",
      "<class 'str'>\n",
      "<class 'bool'>\n",
      "10\n",
      "10.34\n",
      "Amir Hashmi\n",
      "True\n"
     ]
    }
   ],
   "source": [
    "integervar=10\n",
    "floatvar=10.34\n",
    "stringvar=\"Amir Hashmi\"\n",
    "boolvar=True\n",
    "\n",
    "print(type(integervar))\n",
    "print(type(floatvar))\n",
    "print(type(stringvar))\n",
    "print(type(boolvar))\n",
    "\n",
    "print(integervar)\n",
    "print(floatvar)\n",
    "print(stringvar)\n",
    "print(boolvar)"
   ]
  },
  {
   "cell_type": "markdown",
   "metadata": {},
   "source": [
    "**Question 7:** Write a Python program to swap the values of two variables."
   ]
  },
  {
   "cell_type": "code",
   "execution_count": 10,
   "metadata": {},
   "outputs": [
    {
     "name": "stdout",
     "output_type": "stream",
     "text": [
      "10 20\n",
      "20 10\n"
     ]
    }
   ],
   "source": [
    "var1=10\n",
    "var2=20\n",
    "print(var1,var2)\n",
    "var1,var2=var2,var1\n",
    "print(var1,var2)"
   ]
  },
  {
   "cell_type": "markdown",
   "metadata": {},
   "source": [
    "**Question 8:** Write a Python program to convert Celsius to Fahrenheit."
   ]
  },
  {
   "cell_type": "code",
   "execution_count": 11,
   "metadata": {},
   "outputs": [
    {
     "name": "stdout",
     "output_type": "stream",
     "text": [
      "Temprature in Fahrenheit:  98.60000000000001\n"
     ]
    }
   ],
   "source": [
    "tempcel=float(input(\"Enter Temprature in Celcius: \"))\n",
    "tempfarenheit=tempcel*(9/5)+32\n",
    "print(\"Temprature in Fahrenheit: \",tempfarenheit)"
   ]
  },
  {
   "cell_type": "markdown",
   "metadata": {},
   "source": [
    "**Question 9:** Write a Python program to concatenate two strings."
   ]
  },
  {
   "cell_type": "code",
   "execution_count": 12,
   "metadata": {},
   "outputs": [
    {
     "name": "stdout",
     "output_type": "stream",
     "text": [
      "Concatenated String:  Amir017\n"
     ]
    }
   ],
   "source": [
    "str1=str(input(\"Enter string 1: \"))\n",
    "str2=str(input(\"Enter string 2: \"))\n",
    "concatenatedstr=str1+str2\n",
    "print(\"Concatenated String: \",concatenatedstr)"
   ]
  },
  {
   "cell_type": "markdown",
   "metadata": {},
   "source": [
    "**Question 10:** Write a Python program to check if a variable is of a specific data type."
   ]
  },
  {
   "cell_type": "code",
   "execution_count": null,
   "metadata": {},
   "outputs": [],
   "source": [
    "var1=-10\n",
    "if(type(var1)==int):\n",
    "    print(\"Variable is Integer\")"
   ]
  },
  {
   "cell_type": "markdown",
   "metadata": {},
   "source": [
    "## 3. Basic Operators (Arithmetic, Comparison, Logical)\n",
    "\n",
    "**Question 11:** Write a Python program to perform arithmetic operations: addition, subtraction, multiplication, and division."
   ]
  },
  {
   "cell_type": "code",
   "execution_count": null,
   "metadata": {},
   "outputs": [],
   "source": [
    "num1= float(input(\"Enter 1st Number: \"))\n",
    "num2= float(input(\"Enter 2nd Number: \"))\n",
    "sum=num1+num2\n",
    "difference=num1-num2\n",
    "product=num1*num2\n",
    "division=num1/num2\n",
    "floordivision=num1//num2\n",
    "modulus=num1%num2\n",
    "exponent=num1**num2\n",
    "\n",
    "print(\"Sum: \",sum)\n",
    "print(\"Difference: \",difference)\n",
    "print(\"Product: \",product)\n",
    "print(\"Division: \",division)\n",
    "print(\"Floor Division: \",floordivision)\n",
    "print(\"Modulus: \",modulus)\n",
    "print(\"Exponent: \",exponent)"
   ]
  },
  {
   "cell_type": "markdown",
   "metadata": {},
   "source": [
    "**Question 12:** Write a Python program to demonstrate comparison operators: equal to, not equal to, greater than, less than."
   ]
  },
  {
   "cell_type": "code",
   "execution_count": 16,
   "metadata": {},
   "outputs": [
    {
     "name": "stdout",
     "output_type": "stream",
     "text": [
      "Greater\n"
     ]
    }
   ],
   "source": [
    "a=10\n",
    "b=20.2\n",
    "if(a<b):\n",
    "    print(\"Greater\")"
   ]
  },
  {
   "cell_type": "markdown",
   "metadata": {},
   "source": [
    "**Question 13:** Write a Python program to demonstrate logical operators: and, or, not."
   ]
  },
  {
   "cell_type": "code",
   "execution_count": 17,
   "metadata": {},
   "outputs": [
    {
     "name": "stdout",
     "output_type": "stream",
     "text": [
      "False\n",
      "True\n",
      "True\n"
     ]
    }
   ],
   "source": [
    "var1=True\n",
    "var2=False\n",
    "print(var1 and var2)\n",
    "print(var1 or var2)\n",
    "print(not var2)"
   ]
  },
  {
   "cell_type": "markdown",
   "metadata": {},
   "source": [
    "**Question 14:** Write a Python program to calculate the square of a number."
   ]
  },
  {
   "cell_type": "code",
   "execution_count": 33,
   "metadata": {},
   "outputs": [
    {
     "name": "stdout",
     "output_type": "stream",
     "text": [
      "Square:  16.0\n",
      "Squareroot of a number thorugh Buil-in Function:  16.0\n",
      "Squareroot of a number thorugh Buil-in Function:  2.0\n"
     ]
    }
   ],
   "source": [
    "number=float(input(\"Enter Number to find square\"))\n",
    "square=number**2\n",
    "print(\"Square: \",square)\n",
    "\n",
    "print(\"Squareroot of a number thorugh Buil-in Function: \",pow(number,2))\n",
    "print(\"Squareroot of a number thorugh Buil-in Function: \",math.sqrt(number))"
   ]
  },
  {
   "cell_type": "markdown",
   "metadata": {},
   "source": [
    "**Question 15:** Write a Python program to check if a number is even or odd."
   ]
  },
  {
   "cell_type": "code",
   "execution_count": 19,
   "metadata": {},
   "outputs": [
    {
     "name": "stdout",
     "output_type": "stream",
     "text": [
      "Odd\n"
     ]
    }
   ],
   "source": [
    "number=float(input(\"Enter Number: \"))\n",
    "if(number%2==0):\n",
    "    print(\"Even\")\n",
    "else:\n",
    "    print(\"Odd\")"
   ]
  },
  {
   "cell_type": "markdown",
   "metadata": {},
   "source": [
    "**Question 16:** Write a Python program to find the sum of the first n natural numbers."
   ]
  },
  {
   "cell_type": "code",
   "execution_count": 20,
   "metadata": {},
   "outputs": [
    {
     "name": "stdout",
     "output_type": "stream",
     "text": [
      "Sum of 1st 10 Natural Numbers:  45\n"
     ]
    }
   ],
   "source": [
    "sum=0\n",
    "for i in range(1,10,1):\n",
    "    sum+=i\n",
    "print(\"Sum of 1st 10 Natural Numbers: \",sum)"
   ]
  },
  {
   "cell_type": "markdown",
   "metadata": {},
   "source": [
    "**Question 17:** Write a Python program to check if a year is a leap year."
   ]
  },
  {
   "cell_type": "code",
   "execution_count": null,
   "metadata": {},
   "outputs": [
    {
     "name": "stdout",
     "output_type": "stream",
     "text": [
      "Leap Year\n"
     ]
    }
   ],
   "source": [
    "year=int(input(\"Enter Number: \"))\n",
    "if (year % 4 == 0 and year % 100 != 0) or (year % 400 == 0):\n",
    "    print(\"Leap Year\")\n",
    "else:\n",
    "    print(\"Not a Leap Year\")"
   ]
  },
  {
   "cell_type": "markdown",
   "metadata": {},
   "source": [
    "**Question 18:** Write a Python program to reverse a string."
   ]
  },
  {
   "cell_type": "code",
   "execution_count": 35,
   "metadata": {},
   "outputs": [
    {
     "name": "stdout",
     "output_type": "stream",
     "text": [
      "Reversed String:  RIMA\n",
      "Reversed String with Built-in Function:  RIMA\n",
      "Reversed String:  RIMA\n"
     ]
    }
   ],
   "source": [
    "inputstr=input(\"Enter String to reverse: \")\n",
    "reversestr=\"\"\n",
    "for i in range(len(inputstr)-1,-1,-1):\n",
    "    reversestr+=inputstr[i]\n",
    "print(\"Reversed String: \",reversestr)\n",
    "\n",
    "# Built in Function for reversing\n",
    "print(\"Reversed String with Built-in Function: \",''.join(reversed(inputstr)))\n",
    "# Another Shortcut for reversing\n",
    "print(\"Reversed String: \",inputstr[::-1])\n"
   ]
  },
  {
   "cell_type": "markdown",
   "metadata": {},
   "source": [
    "**Question 19:** Write a Python program to check if a string is a palindrome."
   ]
  },
  {
   "cell_type": "code",
   "execution_count": 37,
   "metadata": {},
   "outputs": [
    {
     "name": "stdout",
     "output_type": "stream",
     "text": [
      "Not a palindrome\n"
     ]
    }
   ],
   "source": [
    "inputstr=input(\"Enter String to reverse: \")\n",
    "reversestr=''.join(reversed(inputstr))\n",
    "if inputstr==reversestr:\n",
    "    print(\"Palindrome\")\n",
    "else:\n",
    "    print(\"Not a palindrome\")"
   ]
  },
  {
   "cell_type": "markdown",
   "metadata": {},
   "source": [
    "**Question 20:** Write a Python program to sort a list of numbers in ascending order."
   ]
  },
  {
   "cell_type": "code",
   "execution_count": 46,
   "metadata": {},
   "outputs": [
    {
     "name": "stdout",
     "output_type": "stream",
     "text": [
      "Sorted Numbers:  [2, 3, 3, 5, 6, 7]\n",
      "[2, 3, 3, 5, 6, 7]\n",
      "[7, 6, 5, 3, 3, 2]\n",
      "[7, 6, 5, 3, 3, 2]\n"
     ]
    }
   ],
   "source": [
    "number=[int(x) for x in input(\"Enter Numbers seperated by space: \").split()]\n",
    "sortednumbers=sorted(number)\n",
    "print(\"Sorted Numbers: \",sortednumbers)\n",
    "\n",
    "#Inplace Sorting directly cahnges number ind=stead of returning new list\n",
    "number.sort()\n",
    "print(number)\n",
    "\n",
    "# Sorting in descending order\n",
    "descendingorder=sorted(number,reverse=True)\n",
    "number.sort(reverse=True)\n",
    "print(number)\n",
    "print(descendingorder)\n",
    "\n"
   ]
  }
 ],
 "metadata": {
  "kernelspec": {
   "display_name": "Python 3",
   "language": "python",
   "name": "python3"
  },
  "language_info": {
   "codemirror_mode": {
    "name": "ipython",
    "version": 3
   },
   "file_extension": ".py",
   "mimetype": "text/x-python",
   "name": "python",
   "nbconvert_exporter": "python",
   "pygments_lexer": "ipython3",
   "version": "3.12.9"
  }
 },
 "nbformat": 4,
 "nbformat_minor": 4
}
