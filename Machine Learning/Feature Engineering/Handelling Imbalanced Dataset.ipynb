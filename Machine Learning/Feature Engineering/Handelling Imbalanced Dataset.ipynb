{
 "cells": [
  {
   "cell_type": "markdown",
   "id": "335b07fb",
   "metadata": {},
   "source": [
    "# Handelling Imbalanced Dataset"
   ]
  },
  {
   "cell_type": "code",
   "execution_count": 3,
   "id": "6c5571cd",
   "metadata": {},
   "outputs": [
    {
     "data": {
      "text/plain": [
       "(900, 100)"
      ]
     },
     "execution_count": 3,
     "metadata": {},
     "output_type": "execute_result"
    }
   ],
   "source": [
    "import numpy as np\n",
    "import pandas as pd\n",
    "np.random.seed(123) # For getting same random value every time\n",
    "\n",
    "# Create a dataframe with two classes\n",
    "n_samples= 1000\n",
    "class0_ratio=0.9\n",
    "class1_ratio=0.1\n",
    "n_class0=int(n_samples*class0_ratio)\n",
    "n_class1=int(n_samples*class1_ratio)\n",
    "n_class0,n_class1"
   ]
  },
  {
   "cell_type": "code",
   "execution_count": 6,
   "id": "d829e3b0",
   "metadata": {},
   "outputs": [
    {
     "data": {
      "text/plain": [
       "target\n",
       "0    900\n",
       "1    100\n",
       "Name: count, dtype: int64"
      ]
     },
     "execution_count": 6,
     "metadata": {},
     "output_type": "execute_result"
    }
   ],
   "source": [
    "# Create Dataframe with imbalanced dataset\n",
    "class_0=pd.DataFrame({\n",
    "    'feature_1':np.random.normal(loc=0,scale=1,size=n_class0),\n",
    "    'feature_2':np.random.normal(loc=0,scale=1,size=n_class0),\n",
    "    'target':[0]*n_class0\n",
    "})\n",
    "\n",
    "class_1=pd.DataFrame({\n",
    "    'feature_1':np.random.normal(loc=2,scale=1,size=n_class1),\n",
    "    'feature_2':np.random.normal(loc=2,scale=1,size=n_class1),\n",
    "    'target':[1]*n_class1\n",
    "})\n",
    "# loc is mean and scale is standard deviation\n",
    "df=pd.concat([class_0,class_1]).reset_index(drop=True)\n",
    "df['target'].value_counts()"
   ]
  },
  {
   "cell_type": "markdown",
   "id": "6e5d9501",
   "metadata": {},
   "source": [
    "#### Up-Sampling:\n",
    "We increase the data points of minority. We use upsampling mostly because in down sampling we lose dataset"
   ]
  },
  {
   "cell_type": "code",
   "execution_count": 7,
   "id": "a305e5f1",
   "metadata": {},
   "outputs": [],
   "source": [
    "# We are doing upsampling\n",
    "df_minority=df[df['target']==1]\n",
    "df_majority=df[df['target']==0]"
   ]
  },
  {
   "cell_type": "code",
   "execution_count": 13,
   "id": "eda4f5b0",
   "metadata": {},
   "outputs": [
    {
     "data": {
      "text/plain": [
       "target\n",
       "0    900\n",
       "1    900\n",
       "Name: count, dtype: int64"
      ]
     },
     "execution_count": 13,
     "metadata": {},
     "output_type": "execute_result"
    }
   ],
   "source": [
    "from sklearn.utils import resample\n",
    "df_minority_upsampled=resample(df_minority,replace=True,n_samples=len(df_majority),random_state=42)\n",
    "df_minority_upsampled.shape\n",
    "df_upsampled=pd.concat([df_majority,df_minority_upsampled])\n",
    "df_upsampled['target'].value_counts()"
   ]
  },
  {
   "cell_type": "markdown",
   "id": "32aa18d2",
   "metadata": {},
   "source": [
    "#### Down-Sampling:\n",
    "We decrease the data points of majority"
   ]
  },
  {
   "cell_type": "code",
   "execution_count": 14,
   "id": "414e7bcd",
   "metadata": {},
   "outputs": [],
   "source": [
    "# We do down Sampling\n",
    "df_majority=df[df['target']==0]\n",
    "df_minority=df[df['target']==1]"
   ]
  },
  {
   "cell_type": "code",
   "execution_count": 21,
   "id": "0eb0cb23",
   "metadata": {},
   "outputs": [
    {
     "data": {
      "text/plain": [
       "target\n",
       "0    100\n",
       "1    100\n",
       "Name: count, dtype: int64"
      ]
     },
     "execution_count": 21,
     "metadata": {},
     "output_type": "execute_result"
    }
   ],
   "source": [
    "from sklearn.utils import resample\n",
    "df_majority_downsapmled= resample(df_majority,replace=False,n_samples=len(df_minority),random_state=42)\n",
    "df_majority_downsapmled.shape\n",
    "df_downsapmled=pd.concat([df_majority_downsapmled,df_minority])\n",
    "df_downsapmled['target'].value_counts()\n"
   ]
  },
  {
   "cell_type": "code",
   "execution_count": null,
   "id": "a5a4c754",
   "metadata": {},
   "outputs": [],
   "source": []
  }
 ],
 "metadata": {
  "kernelspec": {
   "display_name": "Python 3",
   "language": "python",
   "name": "python3"
  },
  "language_info": {
   "codemirror_mode": {
    "name": "ipython",
    "version": 3
   },
   "file_extension": ".py",
   "mimetype": "text/x-python",
   "name": "python",
   "nbconvert_exporter": "python",
   "pygments_lexer": "ipython3",
   "version": "3.12.9"
  }
 },
 "nbformat": 4,
 "nbformat_minor": 5
}
